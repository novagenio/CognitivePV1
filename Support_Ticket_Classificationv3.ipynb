{
  "cells": [
    {
      "cell_type": "markdown",
      "source": [
        "En este proyecto abordaremos la clasificación de incidencias de la herramienta ServiceNow, para lo cual antes de diseñar nuestro modelo necesitamos generar nuestro data set de entrenamiento, el cual no es simple, no solo es leer un data set de origen, si no que necesitaremos preparar nuestros datos. \n",
        "\n",
        "El flujo de trabajo general del proceso se puede dividir en varias subpartes. En la siguiente figura se muestra una descripción general de muy alto nivel.\n",
        "\n",
        "![A diagram](https://github.com/novagenio/CognitivePV1/blob/main/images/workflow.png?raw=true)\n",
        "\n",
        "El conjunto de datos se extrae directamente de un repositorio publico de ServiceNow. El preprocesamiento inicial de datos incluye la limpieza de datos (eliminación de duplicados, eliminación de filas vacías, eliminación de palabras vacías, etc.)\n",
        "Los datos originales no estaban etiquetados y contenían solo las descripciones de los ticket. Dado que el enfoque seleccionado para este proyecto es la clasificación, necesitábamos algún mecanismo para convertir estos datos no etiquetados en datos etiquetados. \n",
        "\n",
        "Uno de los enfoques populares para esto es el modelado de las descripciones. El modelado de las descripciones nos permitira seleccionar las 5 categorías principales para nuestros datos, lo que nos ayudara a crear los datos etiquetados (categorías de incidentes).\n",
        "\n",
        "Leemos los datos del fichero cvs. \"No son datos extraidos de ServiceNow\" son de un repositorio publico en Kaggle. \n",
        "Realizamos ELA y preprocesado"
      ],
      "metadata": {
        "id": "bQzrYwZwv8cF"
      }
    },
    {
      "cell_type": "code",
      "execution_count": 82,
      "metadata": {
        "colab": {
          "base_uri": "https://localhost:8080/",
          "height": 17
        },
        "id": "0An58QGeC_lz",
        "outputId": "f165cb26-9f41-4ac1-bf81-b120406d0f0a"
      },
      "outputs": [
        {
          "output_type": "display_data",
          "data": {
            "text/plain": [
              "<IPython.core.display.HTML object>"
            ],
            "text/html": [
              "<style>.container { width:100% !important; }</style>"
            ]
          },
          "metadata": {}
        }
      ],
      "source": [
        "# libraries\n",
        "\n",
        "### https://github.com/pankajkishore/Cognitive-Project\n",
        "\n",
        "import keras \n",
        "import numpy as np\n",
        "from keras.preprocessing.text import Tokenizer\n",
        "import numpy as np\n",
        "import pandas as pd\n",
        "from keras.models import Sequential\n",
        "from keras.layers import Dense\n",
        "from keras.preprocessing.sequence import pad_sequences\n",
        "from keras.layers import Input, Dense, Dropout, Embedding, LSTM, Flatten\n",
        "from keras.models import Model\n",
        "from tensorflow.keras.utils import to_categorical  # LGU\n",
        "from keras.callbacks import ModelCheckpoint\n",
        "import seaborn as sns\n",
        "import matplotlib.pyplot as plt\n",
        "from sklearn.model_selection import train_test_split\n",
        "from sklearn.metrics import accuracy_score\n",
        "plt.style.use('ggplot')\n",
        "%matplotlib inline\n",
        "from IPython.core.display import display, HTML\n",
        "display(HTML(\"<style>.container { width:100% !important; }</style>\"))\n"
      ]
    },
    {
      "cell_type": "code",
      "source": [
        "### Leemos los datos del dataset"
      ],
      "metadata": {
        "id": "Z5SKnjwC30Ed"
      },
      "execution_count": 83,
      "outputs": []
    },
    {
      "cell_type": "markdown",
      "source": [
        "### Nueva sección"
      ],
      "metadata": {
        "id": "Q57ikp0nTSwn"
      }
    },
    {
      "cell_type": "markdown",
      "source": [
        "Leemos los datos del dataset, mostramos, contamos categorias y definimos un target numerico por categoria"
      ],
      "metadata": {
        "id": "ZeT7ZVxm4XOY"
      }
    },
    {
      "cell_type": "code",
      "execution_count": 84,
      "metadata": {
        "id": "7sP18r8aC_l7"
      },
      "outputs": [],
      "source": [
        "data = pd.read_csv('latest_ticket_data.csv')"
      ]
    },
    {
      "cell_type": "code",
      "execution_count": 85,
      "metadata": {
        "colab": {
          "base_uri": "https://localhost:8080/",
          "height": 206
        },
        "id": "F-ccN9LwC_l9",
        "outputId": "0e10a9d0-d0e2-4d5b-8505-aafc2329a559"
      },
      "outputs": [
        {
          "output_type": "execute_result",
          "data": {
            "text/plain": [
              "                                         Description     Category\n",
              "0  hi since recruiter lead permission approve req...  Application\n",
              "1  re expire days hi ask help update passwords co...  Application\n",
              "2  verification warning hi has got attached pleas...  Application\n",
              "3  please dear looks blacklisted receiving mails ...  Application\n",
              "4  dear modules report report cost thank much reg...  Application"
            ],
            "text/html": [
              "\n",
              "  <div id=\"df-7c6a4b02-8852-4a76-9a21-0b60fbbda02d\">\n",
              "    <div class=\"colab-df-container\">\n",
              "      <div>\n",
              "<style scoped>\n",
              "    .dataframe tbody tr th:only-of-type {\n",
              "        vertical-align: middle;\n",
              "    }\n",
              "\n",
              "    .dataframe tbody tr th {\n",
              "        vertical-align: top;\n",
              "    }\n",
              "\n",
              "    .dataframe thead th {\n",
              "        text-align: right;\n",
              "    }\n",
              "</style>\n",
              "<table border=\"1\" class=\"dataframe\">\n",
              "  <thead>\n",
              "    <tr style=\"text-align: right;\">\n",
              "      <th></th>\n",
              "      <th>Description</th>\n",
              "      <th>Category</th>\n",
              "    </tr>\n",
              "  </thead>\n",
              "  <tbody>\n",
              "    <tr>\n",
              "      <th>0</th>\n",
              "      <td>hi since recruiter lead permission approve req...</td>\n",
              "      <td>Application</td>\n",
              "    </tr>\n",
              "    <tr>\n",
              "      <th>1</th>\n",
              "      <td>re expire days hi ask help update passwords co...</td>\n",
              "      <td>Application</td>\n",
              "    </tr>\n",
              "    <tr>\n",
              "      <th>2</th>\n",
              "      <td>verification warning hi has got attached pleas...</td>\n",
              "      <td>Application</td>\n",
              "    </tr>\n",
              "    <tr>\n",
              "      <th>3</th>\n",
              "      <td>please dear looks blacklisted receiving mails ...</td>\n",
              "      <td>Application</td>\n",
              "    </tr>\n",
              "    <tr>\n",
              "      <th>4</th>\n",
              "      <td>dear modules report report cost thank much reg...</td>\n",
              "      <td>Application</td>\n",
              "    </tr>\n",
              "  </tbody>\n",
              "</table>\n",
              "</div>\n",
              "      <button class=\"colab-df-convert\" onclick=\"convertToInteractive('df-7c6a4b02-8852-4a76-9a21-0b60fbbda02d')\"\n",
              "              title=\"Convert this dataframe to an interactive table.\"\n",
              "              style=\"display:none;\">\n",
              "        \n",
              "  <svg xmlns=\"http://www.w3.org/2000/svg\" height=\"24px\"viewBox=\"0 0 24 24\"\n",
              "       width=\"24px\">\n",
              "    <path d=\"M0 0h24v24H0V0z\" fill=\"none\"/>\n",
              "    <path d=\"M18.56 5.44l.94 2.06.94-2.06 2.06-.94-2.06-.94-.94-2.06-.94 2.06-2.06.94zm-11 1L8.5 8.5l.94-2.06 2.06-.94-2.06-.94L8.5 2.5l-.94 2.06-2.06.94zm10 10l.94 2.06.94-2.06 2.06-.94-2.06-.94-.94-2.06-.94 2.06-2.06.94z\"/><path d=\"M17.41 7.96l-1.37-1.37c-.4-.4-.92-.59-1.43-.59-.52 0-1.04.2-1.43.59L10.3 9.45l-7.72 7.72c-.78.78-.78 2.05 0 2.83L4 21.41c.39.39.9.59 1.41.59.51 0 1.02-.2 1.41-.59l7.78-7.78 2.81-2.81c.8-.78.8-2.07 0-2.86zM5.41 20L4 18.59l7.72-7.72 1.47 1.35L5.41 20z\"/>\n",
              "  </svg>\n",
              "      </button>\n",
              "      \n",
              "  <style>\n",
              "    .colab-df-container {\n",
              "      display:flex;\n",
              "      flex-wrap:wrap;\n",
              "      gap: 12px;\n",
              "    }\n",
              "\n",
              "    .colab-df-convert {\n",
              "      background-color: #E8F0FE;\n",
              "      border: none;\n",
              "      border-radius: 50%;\n",
              "      cursor: pointer;\n",
              "      display: none;\n",
              "      fill: #1967D2;\n",
              "      height: 32px;\n",
              "      padding: 0 0 0 0;\n",
              "      width: 32px;\n",
              "    }\n",
              "\n",
              "    .colab-df-convert:hover {\n",
              "      background-color: #E2EBFA;\n",
              "      box-shadow: 0px 1px 2px rgba(60, 64, 67, 0.3), 0px 1px 3px 1px rgba(60, 64, 67, 0.15);\n",
              "      fill: #174EA6;\n",
              "    }\n",
              "\n",
              "    [theme=dark] .colab-df-convert {\n",
              "      background-color: #3B4455;\n",
              "      fill: #D2E3FC;\n",
              "    }\n",
              "\n",
              "    [theme=dark] .colab-df-convert:hover {\n",
              "      background-color: #434B5C;\n",
              "      box-shadow: 0px 1px 3px 1px rgba(0, 0, 0, 0.15);\n",
              "      filter: drop-shadow(0px 1px 2px rgba(0, 0, 0, 0.3));\n",
              "      fill: #FFFFFF;\n",
              "    }\n",
              "  </style>\n",
              "\n",
              "      <script>\n",
              "        const buttonEl =\n",
              "          document.querySelector('#df-7c6a4b02-8852-4a76-9a21-0b60fbbda02d button.colab-df-convert');\n",
              "        buttonEl.style.display =\n",
              "          google.colab.kernel.accessAllowed ? 'block' : 'none';\n",
              "\n",
              "        async function convertToInteractive(key) {\n",
              "          const element = document.querySelector('#df-7c6a4b02-8852-4a76-9a21-0b60fbbda02d');\n",
              "          const dataTable =\n",
              "            await google.colab.kernel.invokeFunction('convertToInteractive',\n",
              "                                                     [key], {});\n",
              "          if (!dataTable) return;\n",
              "\n",
              "          const docLinkHtml = 'Like what you see? Visit the ' +\n",
              "            '<a target=\"_blank\" href=https://colab.research.google.com/notebooks/data_table.ipynb>data table notebook</a>'\n",
              "            + ' to learn more about interactive tables.';\n",
              "          element.innerHTML = '';\n",
              "          dataTable['output_type'] = 'display_data';\n",
              "          await google.colab.output.renderOutput(dataTable, element);\n",
              "          const docLink = document.createElement('div');\n",
              "          docLink.innerHTML = docLinkHtml;\n",
              "          element.appendChild(docLink);\n",
              "        }\n",
              "      </script>\n",
              "    </div>\n",
              "  </div>\n",
              "  "
            ]
          },
          "metadata": {},
          "execution_count": 85
        }
      ],
      "source": [
        "data.head()"
      ]
    },
    {
      "cell_type": "code",
      "execution_count": 86,
      "metadata": {
        "colab": {
          "base_uri": "https://localhost:8080/"
        },
        "id": "REMn4J2LC_l_",
        "outputId": "2a135f1f-762c-49b4-d921-d8be1332dcc6"
      },
      "outputs": [
        {
          "output_type": "execute_result",
          "data": {
            "text/plain": [
              "Application         600\n",
              "Database            600\n",
              "Network             600\n",
              "User Maintenance    600\n",
              "Security            600\n",
              "Name: Category, dtype: int64"
            ]
          },
          "metadata": {},
          "execution_count": 86
        }
      ],
      "source": [
        "data.Category.value_counts()"
      ]
    },
    {
      "cell_type": "code",
      "execution_count": 87,
      "metadata": {
        "id": "R-GGlxIMC_mA"
      },
      "outputs": [],
      "source": [
        "data['target'] = data.Category.astype('category').cat.codes"
      ]
    },
    {
      "cell_type": "code",
      "execution_count": 88,
      "metadata": {
        "colab": {
          "base_uri": "https://localhost:8080/",
          "height": 424
        },
        "id": "0OvEA7akC_mB",
        "outputId": "a17baefe-81f1-4720-8c42-846821026b40"
      },
      "outputs": [
        {
          "output_type": "execute_result",
          "data": {
            "text/plain": [
              "                                           Description     Category  target\n",
              "0    hi since recruiter lead permission approve req...  Application       0\n",
              "1    re expire days hi ask help update passwords co...  Application       0\n",
              "2    verification warning hi has got attached pleas...  Application       0\n",
              "3    please dear looks blacklisted receiving mails ...  Application       0\n",
              "4    dear modules report report cost thank much reg...  Application       0\n",
              "..                                                 ...          ...     ...\n",
              "495  information user requested installation hello ...  Application       0\n",
              "496  hi please issue assign thank best regards engi...  Application       0\n",
              "497  unknown pipeline code hi add unknown pipeline ...  Application       0\n",
              "498  setup form hello please two tickets thank kind...  Application       0\n",
              "499  re confluence tools dear please find attached ...  Application       0\n",
              "\n",
              "[500 rows x 3 columns]"
            ],
            "text/html": [
              "\n",
              "  <div id=\"df-a30d7d27-0145-42c2-809f-d42c3cb780cb\">\n",
              "    <div class=\"colab-df-container\">\n",
              "      <div>\n",
              "<style scoped>\n",
              "    .dataframe tbody tr th:only-of-type {\n",
              "        vertical-align: middle;\n",
              "    }\n",
              "\n",
              "    .dataframe tbody tr th {\n",
              "        vertical-align: top;\n",
              "    }\n",
              "\n",
              "    .dataframe thead th {\n",
              "        text-align: right;\n",
              "    }\n",
              "</style>\n",
              "<table border=\"1\" class=\"dataframe\">\n",
              "  <thead>\n",
              "    <tr style=\"text-align: right;\">\n",
              "      <th></th>\n",
              "      <th>Description</th>\n",
              "      <th>Category</th>\n",
              "      <th>target</th>\n",
              "    </tr>\n",
              "  </thead>\n",
              "  <tbody>\n",
              "    <tr>\n",
              "      <th>0</th>\n",
              "      <td>hi since recruiter lead permission approve req...</td>\n",
              "      <td>Application</td>\n",
              "      <td>0</td>\n",
              "    </tr>\n",
              "    <tr>\n",
              "      <th>1</th>\n",
              "      <td>re expire days hi ask help update passwords co...</td>\n",
              "      <td>Application</td>\n",
              "      <td>0</td>\n",
              "    </tr>\n",
              "    <tr>\n",
              "      <th>2</th>\n",
              "      <td>verification warning hi has got attached pleas...</td>\n",
              "      <td>Application</td>\n",
              "      <td>0</td>\n",
              "    </tr>\n",
              "    <tr>\n",
              "      <th>3</th>\n",
              "      <td>please dear looks blacklisted receiving mails ...</td>\n",
              "      <td>Application</td>\n",
              "      <td>0</td>\n",
              "    </tr>\n",
              "    <tr>\n",
              "      <th>4</th>\n",
              "      <td>dear modules report report cost thank much reg...</td>\n",
              "      <td>Application</td>\n",
              "      <td>0</td>\n",
              "    </tr>\n",
              "    <tr>\n",
              "      <th>...</th>\n",
              "      <td>...</td>\n",
              "      <td>...</td>\n",
              "      <td>...</td>\n",
              "    </tr>\n",
              "    <tr>\n",
              "      <th>495</th>\n",
              "      <td>information user requested installation hello ...</td>\n",
              "      <td>Application</td>\n",
              "      <td>0</td>\n",
              "    </tr>\n",
              "    <tr>\n",
              "      <th>496</th>\n",
              "      <td>hi please issue assign thank best regards engi...</td>\n",
              "      <td>Application</td>\n",
              "      <td>0</td>\n",
              "    </tr>\n",
              "    <tr>\n",
              "      <th>497</th>\n",
              "      <td>unknown pipeline code hi add unknown pipeline ...</td>\n",
              "      <td>Application</td>\n",
              "      <td>0</td>\n",
              "    </tr>\n",
              "    <tr>\n",
              "      <th>498</th>\n",
              "      <td>setup form hello please two tickets thank kind...</td>\n",
              "      <td>Application</td>\n",
              "      <td>0</td>\n",
              "    </tr>\n",
              "    <tr>\n",
              "      <th>499</th>\n",
              "      <td>re confluence tools dear please find attached ...</td>\n",
              "      <td>Application</td>\n",
              "      <td>0</td>\n",
              "    </tr>\n",
              "  </tbody>\n",
              "</table>\n",
              "<p>500 rows × 3 columns</p>\n",
              "</div>\n",
              "      <button class=\"colab-df-convert\" onclick=\"convertToInteractive('df-a30d7d27-0145-42c2-809f-d42c3cb780cb')\"\n",
              "              title=\"Convert this dataframe to an interactive table.\"\n",
              "              style=\"display:none;\">\n",
              "        \n",
              "  <svg xmlns=\"http://www.w3.org/2000/svg\" height=\"24px\"viewBox=\"0 0 24 24\"\n",
              "       width=\"24px\">\n",
              "    <path d=\"M0 0h24v24H0V0z\" fill=\"none\"/>\n",
              "    <path d=\"M18.56 5.44l.94 2.06.94-2.06 2.06-.94-2.06-.94-.94-2.06-.94 2.06-2.06.94zm-11 1L8.5 8.5l.94-2.06 2.06-.94-2.06-.94L8.5 2.5l-.94 2.06-2.06.94zm10 10l.94 2.06.94-2.06 2.06-.94-2.06-.94-.94-2.06-.94 2.06-2.06.94z\"/><path d=\"M17.41 7.96l-1.37-1.37c-.4-.4-.92-.59-1.43-.59-.52 0-1.04.2-1.43.59L10.3 9.45l-7.72 7.72c-.78.78-.78 2.05 0 2.83L4 21.41c.39.39.9.59 1.41.59.51 0 1.02-.2 1.41-.59l7.78-7.78 2.81-2.81c.8-.78.8-2.07 0-2.86zM5.41 20L4 18.59l7.72-7.72 1.47 1.35L5.41 20z\"/>\n",
              "  </svg>\n",
              "      </button>\n",
              "      \n",
              "  <style>\n",
              "    .colab-df-container {\n",
              "      display:flex;\n",
              "      flex-wrap:wrap;\n",
              "      gap: 12px;\n",
              "    }\n",
              "\n",
              "    .colab-df-convert {\n",
              "      background-color: #E8F0FE;\n",
              "      border: none;\n",
              "      border-radius: 50%;\n",
              "      cursor: pointer;\n",
              "      display: none;\n",
              "      fill: #1967D2;\n",
              "      height: 32px;\n",
              "      padding: 0 0 0 0;\n",
              "      width: 32px;\n",
              "    }\n",
              "\n",
              "    .colab-df-convert:hover {\n",
              "      background-color: #E2EBFA;\n",
              "      box-shadow: 0px 1px 2px rgba(60, 64, 67, 0.3), 0px 1px 3px 1px rgba(60, 64, 67, 0.15);\n",
              "      fill: #174EA6;\n",
              "    }\n",
              "\n",
              "    [theme=dark] .colab-df-convert {\n",
              "      background-color: #3B4455;\n",
              "      fill: #D2E3FC;\n",
              "    }\n",
              "\n",
              "    [theme=dark] .colab-df-convert:hover {\n",
              "      background-color: #434B5C;\n",
              "      box-shadow: 0px 1px 3px 1px rgba(0, 0, 0, 0.15);\n",
              "      filter: drop-shadow(0px 1px 2px rgba(0, 0, 0, 0.3));\n",
              "      fill: #FFFFFF;\n",
              "    }\n",
              "  </style>\n",
              "\n",
              "      <script>\n",
              "        const buttonEl =\n",
              "          document.querySelector('#df-a30d7d27-0145-42c2-809f-d42c3cb780cb button.colab-df-convert');\n",
              "        buttonEl.style.display =\n",
              "          google.colab.kernel.accessAllowed ? 'block' : 'none';\n",
              "\n",
              "        async function convertToInteractive(key) {\n",
              "          const element = document.querySelector('#df-a30d7d27-0145-42c2-809f-d42c3cb780cb');\n",
              "          const dataTable =\n",
              "            await google.colab.kernel.invokeFunction('convertToInteractive',\n",
              "                                                     [key], {});\n",
              "          if (!dataTable) return;\n",
              "\n",
              "          const docLinkHtml = 'Like what you see? Visit the ' +\n",
              "            '<a target=\"_blank\" href=https://colab.research.google.com/notebooks/data_table.ipynb>data table notebook</a>'\n",
              "            + ' to learn more about interactive tables.';\n",
              "          element.innerHTML = '';\n",
              "          dataTable['output_type'] = 'display_data';\n",
              "          await google.colab.output.renderOutput(dataTable, element);\n",
              "          const docLink = document.createElement('div');\n",
              "          docLink.innerHTML = docLinkHtml;\n",
              "          element.appendChild(docLink);\n",
              "        }\n",
              "      </script>\n",
              "    </div>\n",
              "  </div>\n",
              "  "
            ]
          },
          "metadata": {},
          "execution_count": 88
        }
      ],
      "source": [
        "data.head(500)"
      ]
    },
    {
      "cell_type": "markdown",
      "source": [
        "En Pandas, tenemos la libertad de agregar diferentes funciones cuando sea necesario, como función lambda, función de clasificación, etc. Podemos aplicar una función lambda tanto a las columnas como a las filas del marco de datos de Pandas.\n",
        "EN este caso contaremos la palabras del campo descripción e incluiremos una etiqueta en el rango de palabras en que esta cada descripción (entre 0-100, 100-200, etc.)\n",
        "Posteriormente agrupamos y revisamos la distribución del ranfo de palabras respecto a los registros de la muestra."
      ],
      "metadata": {
        "id": "ufGi7msX5C6h"
      }
    },
    {
      "cell_type": "code",
      "execution_count": 89,
      "metadata": {
        "id": "T5H9-2KUC_mC"
      },
      "outputs": [],
      "source": [
        "data['num_words'] = data.Description.apply(lambda x : len(x.split()))"
      ]
    },
    {
      "cell_type": "code",
      "execution_count": 90,
      "metadata": {
        "id": "N7eGNRV5C_mE"
      },
      "outputs": [],
      "source": [
        "bins=[0,50,75, np.inf]\n",
        "data['bins']=pd.cut(data.num_words, bins=[0,100,300,500,800, np.inf], labels=['0-100', '100-300', '300-500','500-800' ,'>800'])"
      ]
    },
    {
      "cell_type": "code",
      "execution_count": 91,
      "metadata": {
        "id": "Bp8_JcpGC_mF"
      },
      "outputs": [],
      "source": [
        "word_distribution = data.groupby('bins').size().reset_index().rename(columns={0:'counts'})"
      ]
    },
    {
      "cell_type": "code",
      "execution_count": 92,
      "metadata": {
        "colab": {
          "base_uri": "https://localhost:8080/",
          "height": 206
        },
        "id": "mF18UeN1C_mH",
        "outputId": "daa18585-b71b-4af6-9a57-58dda8c46cae"
      },
      "outputs": [
        {
          "output_type": "execute_result",
          "data": {
            "text/plain": [
              "      bins  counts\n",
              "0    0-100    2817\n",
              "1  100-300     162\n",
              "2  300-500      15\n",
              "3  500-800       2\n",
              "4     >800       4"
            ],
            "text/html": [
              "\n",
              "  <div id=\"df-29734650-86d5-4eff-a283-373241258a79\">\n",
              "    <div class=\"colab-df-container\">\n",
              "      <div>\n",
              "<style scoped>\n",
              "    .dataframe tbody tr th:only-of-type {\n",
              "        vertical-align: middle;\n",
              "    }\n",
              "\n",
              "    .dataframe tbody tr th {\n",
              "        vertical-align: top;\n",
              "    }\n",
              "\n",
              "    .dataframe thead th {\n",
              "        text-align: right;\n",
              "    }\n",
              "</style>\n",
              "<table border=\"1\" class=\"dataframe\">\n",
              "  <thead>\n",
              "    <tr style=\"text-align: right;\">\n",
              "      <th></th>\n",
              "      <th>bins</th>\n",
              "      <th>counts</th>\n",
              "    </tr>\n",
              "  </thead>\n",
              "  <tbody>\n",
              "    <tr>\n",
              "      <th>0</th>\n",
              "      <td>0-100</td>\n",
              "      <td>2817</td>\n",
              "    </tr>\n",
              "    <tr>\n",
              "      <th>1</th>\n",
              "      <td>100-300</td>\n",
              "      <td>162</td>\n",
              "    </tr>\n",
              "    <tr>\n",
              "      <th>2</th>\n",
              "      <td>300-500</td>\n",
              "      <td>15</td>\n",
              "    </tr>\n",
              "    <tr>\n",
              "      <th>3</th>\n",
              "      <td>500-800</td>\n",
              "      <td>2</td>\n",
              "    </tr>\n",
              "    <tr>\n",
              "      <th>4</th>\n",
              "      <td>&gt;800</td>\n",
              "      <td>4</td>\n",
              "    </tr>\n",
              "  </tbody>\n",
              "</table>\n",
              "</div>\n",
              "      <button class=\"colab-df-convert\" onclick=\"convertToInteractive('df-29734650-86d5-4eff-a283-373241258a79')\"\n",
              "              title=\"Convert this dataframe to an interactive table.\"\n",
              "              style=\"display:none;\">\n",
              "        \n",
              "  <svg xmlns=\"http://www.w3.org/2000/svg\" height=\"24px\"viewBox=\"0 0 24 24\"\n",
              "       width=\"24px\">\n",
              "    <path d=\"M0 0h24v24H0V0z\" fill=\"none\"/>\n",
              "    <path d=\"M18.56 5.44l.94 2.06.94-2.06 2.06-.94-2.06-.94-.94-2.06-.94 2.06-2.06.94zm-11 1L8.5 8.5l.94-2.06 2.06-.94-2.06-.94L8.5 2.5l-.94 2.06-2.06.94zm10 10l.94 2.06.94-2.06 2.06-.94-2.06-.94-.94-2.06-.94 2.06-2.06.94z\"/><path d=\"M17.41 7.96l-1.37-1.37c-.4-.4-.92-.59-1.43-.59-.52 0-1.04.2-1.43.59L10.3 9.45l-7.72 7.72c-.78.78-.78 2.05 0 2.83L4 21.41c.39.39.9.59 1.41.59.51 0 1.02-.2 1.41-.59l7.78-7.78 2.81-2.81c.8-.78.8-2.07 0-2.86zM5.41 20L4 18.59l7.72-7.72 1.47 1.35L5.41 20z\"/>\n",
              "  </svg>\n",
              "      </button>\n",
              "      \n",
              "  <style>\n",
              "    .colab-df-container {\n",
              "      display:flex;\n",
              "      flex-wrap:wrap;\n",
              "      gap: 12px;\n",
              "    }\n",
              "\n",
              "    .colab-df-convert {\n",
              "      background-color: #E8F0FE;\n",
              "      border: none;\n",
              "      border-radius: 50%;\n",
              "      cursor: pointer;\n",
              "      display: none;\n",
              "      fill: #1967D2;\n",
              "      height: 32px;\n",
              "      padding: 0 0 0 0;\n",
              "      width: 32px;\n",
              "    }\n",
              "\n",
              "    .colab-df-convert:hover {\n",
              "      background-color: #E2EBFA;\n",
              "      box-shadow: 0px 1px 2px rgba(60, 64, 67, 0.3), 0px 1px 3px 1px rgba(60, 64, 67, 0.15);\n",
              "      fill: #174EA6;\n",
              "    }\n",
              "\n",
              "    [theme=dark] .colab-df-convert {\n",
              "      background-color: #3B4455;\n",
              "      fill: #D2E3FC;\n",
              "    }\n",
              "\n",
              "    [theme=dark] .colab-df-convert:hover {\n",
              "      background-color: #434B5C;\n",
              "      box-shadow: 0px 1px 3px 1px rgba(0, 0, 0, 0.15);\n",
              "      filter: drop-shadow(0px 1px 2px rgba(0, 0, 0, 0.3));\n",
              "      fill: #FFFFFF;\n",
              "    }\n",
              "  </style>\n",
              "\n",
              "      <script>\n",
              "        const buttonEl =\n",
              "          document.querySelector('#df-29734650-86d5-4eff-a283-373241258a79 button.colab-df-convert');\n",
              "        buttonEl.style.display =\n",
              "          google.colab.kernel.accessAllowed ? 'block' : 'none';\n",
              "\n",
              "        async function convertToInteractive(key) {\n",
              "          const element = document.querySelector('#df-29734650-86d5-4eff-a283-373241258a79');\n",
              "          const dataTable =\n",
              "            await google.colab.kernel.invokeFunction('convertToInteractive',\n",
              "                                                     [key], {});\n",
              "          if (!dataTable) return;\n",
              "\n",
              "          const docLinkHtml = 'Like what you see? Visit the ' +\n",
              "            '<a target=\"_blank\" href=https://colab.research.google.com/notebooks/data_table.ipynb>data table notebook</a>'\n",
              "            + ' to learn more about interactive tables.';\n",
              "          element.innerHTML = '';\n",
              "          dataTable['output_type'] = 'display_data';\n",
              "          await google.colab.output.renderOutput(dataTable, element);\n",
              "          const docLink = document.createElement('div');\n",
              "          docLink.innerHTML = docLinkHtml;\n",
              "          element.appendChild(docLink);\n",
              "        }\n",
              "      </script>\n",
              "    </div>\n",
              "  </div>\n",
              "  "
            ]
          },
          "metadata": {},
          "execution_count": 92
        }
      ],
      "source": [
        "word_distribution.head()"
      ]
    },
    {
      "cell_type": "code",
      "execution_count": 93,
      "metadata": {
        "colab": {
          "base_uri": "https://localhost:8080/",
          "height": 316
        },
        "id": "WJYWMCpvC_mI",
        "outputId": "3cb4c3a7-f366-4e89-914f-5fb9516d66b7"
      },
      "outputs": [
        {
          "output_type": "execute_result",
          "data": {
            "text/plain": [
              "Text(0.5, 1.0, 'Word distribution per bin')"
            ]
          },
          "metadata": {},
          "execution_count": 93
        },
        {
          "output_type": "display_data",
          "data": {
            "text/plain": [
              "<Figure size 432x288 with 1 Axes>"
            ],
            "image/png": "[encoded data removed]"
          },
          "metadata": {
            "needs_background": "light"
          }
        }
      ],
      "source": [
        "sns.barplot(x='bins', y='counts', data=word_distribution).set_title(\"Word distribution per bin\")"
      ]
    },
    {
      "cell_type": "markdown",
      "source": [
        "Aqui vemos cada registro del dataset, con su descripción, categoria, el target definido, el numero de palabras que contine caa categoria y el rango en que esta el numero de palabras."
      ],
      "metadata": {
        "id": "DRSpuFTR63Ut"
      }
    },
    {
      "cell_type": "code",
      "execution_count": 94,
      "metadata": {
        "colab": {
          "base_uri": "https://localhost:8080/",
          "height": 206
        },
        "id": "y_j0zIq6C_mJ",
        "outputId": "09584ee1-53f3-44b9-e091-16492b27d9bf"
      },
      "outputs": [
        {
          "output_type": "execute_result",
          "data": {
            "text/plain": [
              "                                         Description     Category  target  \\\n",
              "0  hi since recruiter lead permission approve req...  Application       0   \n",
              "1  re expire days hi ask help update passwords co...  Application       0   \n",
              "2  verification warning hi has got attached pleas...  Application       0   \n",
              "3  please dear looks blacklisted receiving mails ...  Application       0   \n",
              "4  dear modules report report cost thank much reg...  Application       0   \n",
              "\n",
              "   num_words     bins  \n",
              "0         12    0-100  \n",
              "1        140  100-300  \n",
              "2         14    0-100  \n",
              "3         14    0-100  \n",
              "4          8    0-100  "
            ],
            "text/html": [
              "\n",
              "  <div id=\"df-365b623e-17c9-486d-82ca-1efcb7efabb0\">\n",
              "    <div class=\"colab-df-container\">\n",
              "      <div>\n",
              "<style scoped>\n",
              "    .dataframe tbody tr th:only-of-type {\n",
              "        vertical-align: middle;\n",
              "    }\n",
              "\n",
              "    .dataframe tbody tr th {\n",
              "        vertical-align: top;\n",
              "    }\n",
              "\n",
              "    .dataframe thead th {\n",
              "        text-align: right;\n",
              "    }\n",
              "</style>\n",
              "<table border=\"1\" class=\"dataframe\">\n",
              "  <thead>\n",
              "    <tr style=\"text-align: right;\">\n",
              "      <th></th>\n",
              "      <th>Description</th>\n",
              "      <th>Category</th>\n",
              "      <th>target</th>\n",
              "      <th>num_words</th>\n",
              "      <th>bins</th>\n",
              "    </tr>\n",
              "  </thead>\n",
              "  <tbody>\n",
              "    <tr>\n",
              "      <th>0</th>\n",
              "      <td>hi since recruiter lead permission approve req...</td>\n",
              "      <td>Application</td>\n",
              "      <td>0</td>\n",
              "      <td>12</td>\n",
              "      <td>0-100</td>\n",
              "    </tr>\n",
              "    <tr>\n",
              "      <th>1</th>\n",
              "      <td>re expire days hi ask help update passwords co...</td>\n",
              "      <td>Application</td>\n",
              "      <td>0</td>\n",
              "      <td>140</td>\n",
              "      <td>100-300</td>\n",
              "    </tr>\n",
              "    <tr>\n",
              "      <th>2</th>\n",
              "      <td>verification warning hi has got attached pleas...</td>\n",
              "      <td>Application</td>\n",
              "      <td>0</td>\n",
              "      <td>14</td>\n",
              "      <td>0-100</td>\n",
              "    </tr>\n",
              "    <tr>\n",
              "      <th>3</th>\n",
              "      <td>please dear looks blacklisted receiving mails ...</td>\n",
              "      <td>Application</td>\n",
              "      <td>0</td>\n",
              "      <td>14</td>\n",
              "      <td>0-100</td>\n",
              "    </tr>\n",
              "    <tr>\n",
              "      <th>4</th>\n",
              "      <td>dear modules report report cost thank much reg...</td>\n",
              "      <td>Application</td>\n",
              "      <td>0</td>\n",
              "      <td>8</td>\n",
              "      <td>0-100</td>\n",
              "    </tr>\n",
              "  </tbody>\n",
              "</table>\n",
              "</div>\n",
              "      <button class=\"colab-df-convert\" onclick=\"convertToInteractive('df-365b623e-17c9-486d-82ca-1efcb7efabb0')\"\n",
              "              title=\"Convert this dataframe to an interactive table.\"\n",
              "              style=\"display:none;\">\n",
              "        \n",
              "  <svg xmlns=\"http://www.w3.org/2000/svg\" height=\"24px\"viewBox=\"0 0 24 24\"\n",
              "       width=\"24px\">\n",
              "    <path d=\"M0 0h24v24H0V0z\" fill=\"none\"/>\n",
              "    <path d=\"M18.56 5.44l.94 2.06.94-2.06 2.06-.94-2.06-.94-.94-2.06-.94 2.06-2.06.94zm-11 1L8.5 8.5l.94-2.06 2.06-.94-2.06-.94L8.5 2.5l-.94 2.06-2.06.94zm10 10l.94 2.06.94-2.06 2.06-.94-2.06-.94-.94-2.06-.94 2.06-2.06.94z\"/><path d=\"M17.41 7.96l-1.37-1.37c-.4-.4-.92-.59-1.43-.59-.52 0-1.04.2-1.43.59L10.3 9.45l-7.72 7.72c-.78.78-.78 2.05 0 2.83L4 21.41c.39.39.9.59 1.41.59.51 0 1.02-.2 1.41-.59l7.78-7.78 2.81-2.81c.8-.78.8-2.07 0-2.86zM5.41 20L4 18.59l7.72-7.72 1.47 1.35L5.41 20z\"/>\n",
              "  </svg>\n",
              "      </button>\n",
              "      \n",
              "  <style>\n",
              "    .colab-df-container {\n",
              "      display:flex;\n",
              "      flex-wrap:wrap;\n",
              "      gap: 12px;\n",
              "    }\n",
              "\n",
              "    .colab-df-convert {\n",
              "      background-color: #E8F0FE;\n",
              "      border: none;\n",
              "      border-radius: 50%;\n",
              "      cursor: pointer;\n",
              "      display: none;\n",
              "      fill: #1967D2;\n",
              "      height: 32px;\n",
              "      padding: 0 0 0 0;\n",
              "      width: 32px;\n",
              "    }\n",
              "\n",
              "    .colab-df-convert:hover {\n",
              "      background-color: #E2EBFA;\n",
              "      box-shadow: 0px 1px 2px rgba(60, 64, 67, 0.3), 0px 1px 3px 1px rgba(60, 64, 67, 0.15);\n",
              "      fill: #174EA6;\n",
              "    }\n",
              "\n",
              "    [theme=dark] .colab-df-convert {\n",
              "      background-color: #3B4455;\n",
              "      fill: #D2E3FC;\n",
              "    }\n",
              "\n",
              "    [theme=dark] .colab-df-convert:hover {\n",
              "      background-color: #434B5C;\n",
              "      box-shadow: 0px 1px 3px 1px rgba(0, 0, 0, 0.15);\n",
              "      filter: drop-shadow(0px 1px 2px rgba(0, 0, 0, 0.3));\n",
              "      fill: #FFFFFF;\n",
              "    }\n",
              "  </style>\n",
              "\n",
              "      <script>\n",
              "        const buttonEl =\n",
              "          document.querySelector('#df-365b623e-17c9-486d-82ca-1efcb7efabb0 button.colab-df-convert');\n",
              "        buttonEl.style.display =\n",
              "          google.colab.kernel.accessAllowed ? 'block' : 'none';\n",
              "\n",
              "        async function convertToInteractive(key) {\n",
              "          const element = document.querySelector('#df-365b623e-17c9-486d-82ca-1efcb7efabb0');\n",
              "          const dataTable =\n",
              "            await google.colab.kernel.invokeFunction('convertToInteractive',\n",
              "                                                     [key], {});\n",
              "          if (!dataTable) return;\n",
              "\n",
              "          const docLinkHtml = 'Like what you see? Visit the ' +\n",
              "            '<a target=\"_blank\" href=https://colab.research.google.com/notebooks/data_table.ipynb>data table notebook</a>'\n",
              "            + ' to learn more about interactive tables.';\n",
              "          element.innerHTML = '';\n",
              "          dataTable['output_type'] = 'display_data';\n",
              "          await google.colab.output.renderOutput(dataTable, element);\n",
              "          const docLink = document.createElement('div');\n",
              "          docLink.innerHTML = docLinkHtml;\n",
              "          element.appendChild(docLink);\n",
              "        }\n",
              "      </script>\n",
              "    </div>\n",
              "  </div>\n",
              "  "
            ]
          },
          "metadata": {},
          "execution_count": 94
        }
      ],
      "source": [
        "data.head()"
      ]
    },
    {
      "cell_type": "markdown",
      "source": [
        "Asignamos el target a la variable **y**, la que usaremos más adelante en el modelo. Ojo con esto."
      ],
      "metadata": {
        "id": "7AudFwVh7SQu"
      }
    },
    {
      "cell_type": "code",
      "execution_count": 95,
      "metadata": {
        "id": "ED8FWJTCC_mL"
      },
      "outputs": [],
      "source": [
        "num_class = len(np.unique(data.Category.values))\n",
        "y = data['target'].values"
      ]
    },
    {
      "cell_type": "code",
      "source": [
        ""
      ],
      "metadata": {
        "id": "vB-baOli7fbO"
      },
      "execution_count": 95,
      "outputs": []
    },
    {
      "cell_type": "markdown",
      "metadata": {
        "id": "DbRQMIr8C_mM"
      },
      "source": [
        "# Topic Modelling\n",
        "\n",
        "Antes de darle caña al proceso, estas son algunas de las suposiciones que consideramos:\n",
        "Elegimos la cantidad de descripciones con anticipación, incluso si no estamos seguros de cuáles son.\n",
        "Cada documento se representa como una distribución por descripción.\n",
        "Cada descripción se representa como una distribución sobre palabras.\n",
        "Usamos** Wordnet de NLTK** para encontrar los significados de palabras, sinónimos, antónimos y más. Además, usamos **WordNetLemmatizer** para obtener la raíz de la palabra.\n",
        "Luego leemos nuestro conjunto de datos línea por línea y preparamos cada línea para LDA y las almacenamos en una lista."
      ]
    },
    {
      "cell_type": "code",
      "execution_count": 96,
      "metadata": {
        "id": "g-rQT7lCC_mP"
      },
      "outputs": [],
      "source": [
        "from sklearn.feature_extraction.text import CountVectorizer, TfidfTransformer\n",
        "import numpy as np\n",
        "import pandas as pd\n",
        "import re\n",
        "import warnings\n",
        "\n",
        "#Visualisation\n",
        "import matplotlib.pyplot as plt\n",
        "import matplotlib\n",
        "import seaborn as sns\n",
        "from IPython.display import display\n",
        "#from mpl_toolkits.basemap import Basemap\n",
        "from wordcloud import WordCloud, STOPWORDS\n",
        "\n",
        "#nltk\n",
        "from nltk.stem import WordNetLemmatizer\n",
        "from nltk.sentiment.vader import SentimentIntensityAnalyzer\n",
        "from nltk.sentiment.util import *\n",
        "from nltk import tokenize"
      ]
    },
    {
      "cell_type": "code",
      "execution_count": 97,
      "metadata": {
        "id": "mvOXNS8aC_mR"
      },
      "outputs": [],
      "source": [
        "data['Description'] = data['Description'].astype(str)"
      ]
    },
    {
      "cell_type": "code",
      "source": [
        "data.head(1000)"
      ],
      "metadata": {
        "colab": {
          "base_uri": "https://localhost:8080/",
          "height": 5638
        },
        "id": "YTEi3eNe8E2g",
        "outputId": "06c3711d-e0b0-429d-b383-3620ecbf0a46"
      },
      "execution_count": 127,
      "outputs": [
        {
          "output_type": "execute_result",
          "data": {
            "text/plain": [
              "                                           Description     Category  target  \\\n",
              "0    hi since recruiter lead permission approve req...  Application       0   \n",
              "1    re expire days hi ask help update passwords co...  Application       0   \n",
              "2    verification warning hi has got attached pleas...  Application       0   \n",
              "3    please dear looks blacklisted receiving mails ...  Application       0   \n",
              "4    dear modules report report cost thank much reg...  Application       0   \n",
              "..                                                 ...          ...     ...   \n",
              "995  client hi about working client clients establi...      Network       2   \n",
              "996  hello please having thank application engineer...      Network       2   \n",
              "997  permissions hello please kind assist possible ...      Network       2   \n",
              "998  device recovery report printer tray has proble...      Network       2   \n",
              "999  folder storage hi please folder related curren...      Network       2   \n",
              "\n",
              "     num_words     bins  \n",
              "0           12    0-100  \n",
              "1          140  100-300  \n",
              "2           14    0-100  \n",
              "3           14    0-100  \n",
              "4            8    0-100  \n",
              "..         ...      ...  \n",
              "995         38    0-100  \n",
              "996          7    0-100  \n",
              "997         20    0-100  \n",
              "998         42    0-100  \n",
              "999         12    0-100  \n",
              "\n",
              "[1000 rows x 5 columns]"
            ],
            "text/html": [
              "\n",
              "  <div id=\"df-6eded152-871a-45e6-8e38-928087d00185\">\n",
              "    <div class=\"colab-df-container\">\n",
              "      <div>\n",
              "<style scoped>\n",
              "    .dataframe tbody tr th:only-of-type {\n",
              "        vertical-align: middle;\n",
              "    }\n",
              "\n",
              "    .dataframe tbody tr th {\n",
              "        vertical-align: top;\n",
              "    }\n",
              "\n",
              "    .dataframe thead th {\n",
              "        text-align: right;\n",
              "    }\n",
              "</style>\n",
              "<table border=\"1\" class=\"dataframe\">\n",
              "  <thead>\n",
              "    <tr style=\"text-align: right;\">\n",
              "      <th></th>\n",
              "      <th>Description</th>\n",
              "      <th>Category</th>\n",
              "      <th>target</th>\n",
              "      <th>num_words</th>\n",
              "      <th>bins</th>\n",
              "    </tr>\n",
              "  </thead>\n",
              "  <tbody>\n",
              "    <tr>\n",
              "      <th>0</th>\n",
              "      <td>hi since recruiter lead permission approve req...</td>\n",
              "      <td>Application</td>\n",
              "      <td>0</td>\n",
              "      <td>12</td>\n",
              "      <td>0-100</td>\n",
              "    </tr>\n",
              "    <tr>\n",
              "      <th>1</th>\n",
              "      <td>re expire days hi ask help update passwords co...</td>\n",
              "      <td>Application</td>\n",
              "      <td>0</td>\n",
              "      <td>140</td>\n",
              "      <td>100-300</td>\n",
              "    </tr>\n",
              "    <tr>\n",
              "      <th>2</th>\n",
              "      <td>verification warning hi has got attached pleas...</td>\n",
              "      <td>Application</td>\n",
              "      <td>0</td>\n",
              "      <td>14</td>\n",
              "      <td>0-100</td>\n",
              "    </tr>\n",
              "    <tr>\n",
              "      <th>3</th>\n",
              "      <td>please dear looks blacklisted receiving mails ...</td>\n",
              "      <td>Application</td>\n",
              "      <td>0</td>\n",
              "      <td>14</td>\n",
              "      <td>0-100</td>\n",
              "    </tr>\n",
              "    <tr>\n",
              "      <th>4</th>\n",
              "      <td>dear modules report report cost thank much reg...</td>\n",
              "      <td>Application</td>\n",
              "      <td>0</td>\n",
              "      <td>8</td>\n",
              "      <td>0-100</td>\n",
              "    </tr>\n",
              "    <tr>\n",
              "      <th>...</th>\n",
              "      <td>...</td>\n",
              "      <td>...</td>\n",
              "      <td>...</td>\n",
              "      <td>...</td>\n",
              "      <td>...</td>\n",
              "    </tr>\n",
              "    <tr>\n",
              "      <th>995</th>\n",
              "      <td>client hi about working client clients establi...</td>\n",
              "      <td>Network</td>\n",
              "      <td>2</td>\n",
              "      <td>38</td>\n",
              "      <td>0-100</td>\n",
              "    </tr>\n",
              "    <tr>\n",
              "      <th>996</th>\n",
              "      <td>hello please having thank application engineer...</td>\n",
              "      <td>Network</td>\n",
              "      <td>2</td>\n",
              "      <td>7</td>\n",
              "      <td>0-100</td>\n",
              "    </tr>\n",
              "    <tr>\n",
              "      <th>997</th>\n",
              "      <td>permissions hello please kind assist possible ...</td>\n",
              "      <td>Network</td>\n",
              "      <td>2</td>\n",
              "      <td>20</td>\n",
              "      <td>0-100</td>\n",
              "    </tr>\n",
              "    <tr>\n",
              "      <th>998</th>\n",
              "      <td>device recovery report printer tray has proble...</td>\n",
              "      <td>Network</td>\n",
              "      <td>2</td>\n",
              "      <td>42</td>\n",
              "      <td>0-100</td>\n",
              "    </tr>\n",
              "    <tr>\n",
              "      <th>999</th>\n",
              "      <td>folder storage hi please folder related curren...</td>\n",
              "      <td>Network</td>\n",
              "      <td>2</td>\n",
              "      <td>12</td>\n",
              "      <td>0-100</td>\n",
              "    </tr>\n",
              "  </tbody>\n",
              "</table>\n",
              "<p>1000 rows × 5 columns</p>\n",
              "</div>\n",
              "      <button class=\"colab-df-convert\" onclick=\"convertToInteractive('df-6eded152-871a-45e6-8e38-928087d00185')\"\n",
              "              title=\"Convert this dataframe to an interactive table.\"\n",
              "              style=\"display:none;\">\n",
              "        \n",
              "  <svg xmlns=\"http://www.w3.org/2000/svg\" height=\"24px\"viewBox=\"0 0 24 24\"\n",
              "       width=\"24px\">\n",
              "    <path d=\"M0 0h24v24H0V0z\" fill=\"none\"/>\n",
              "    <path d=\"M18.56 5.44l.94 2.06.94-2.06 2.06-.94-2.06-.94-.94-2.06-.94 2.06-2.06.94zm-11 1L8.5 8.5l.94-2.06 2.06-.94-2.06-.94L8.5 2.5l-.94 2.06-2.06.94zm10 10l.94 2.06.94-2.06 2.06-.94-2.06-.94-.94-2.06-.94 2.06-2.06.94z\"/><path d=\"M17.41 7.96l-1.37-1.37c-.4-.4-.92-.59-1.43-.59-.52 0-1.04.2-1.43.59L10.3 9.45l-7.72 7.72c-.78.78-.78 2.05 0 2.83L4 21.41c.39.39.9.59 1.41.59.51 0 1.02-.2 1.41-.59l7.78-7.78 2.81-2.81c.8-.78.8-2.07 0-2.86zM5.41 20L4 18.59l7.72-7.72 1.47 1.35L5.41 20z\"/>\n",
              "  </svg>\n",
              "      </button>\n",
              "      \n",
              "  <style>\n",
              "    .colab-df-container {\n",
              "      display:flex;\n",
              "      flex-wrap:wrap;\n",
              "      gap: 12px;\n",
              "    }\n",
              "\n",
              "    .colab-df-convert {\n",
              "      background-color: #E8F0FE;\n",
              "      border: none;\n",
              "      border-radius: 50%;\n",
              "      cursor: pointer;\n",
              "      display: none;\n",
              "      fill: #1967D2;\n",
              "      height: 32px;\n",
              "      padding: 0 0 0 0;\n",
              "      width: 32px;\n",
              "    }\n",
              "\n",
              "    .colab-df-convert:hover {\n",
              "      background-color: #E2EBFA;\n",
              "      box-shadow: 0px 1px 2px rgba(60, 64, 67, 0.3), 0px 1px 3px 1px rgba(60, 64, 67, 0.15);\n",
              "      fill: #174EA6;\n",
              "    }\n",
              "\n",
              "    [theme=dark] .colab-df-convert {\n",
              "      background-color: #3B4455;\n",
              "      fill: #D2E3FC;\n",
              "    }\n",
              "\n",
              "    [theme=dark] .colab-df-convert:hover {\n",
              "      background-color: #434B5C;\n",
              "      box-shadow: 0px 1px 3px 1px rgba(0, 0, 0, 0.15);\n",
              "      filter: drop-shadow(0px 1px 2px rgba(0, 0, 0, 0.3));\n",
              "      fill: #FFFFFF;\n",
              "    }\n",
              "  </style>\n",
              "\n",
              "      <script>\n",
              "        const buttonEl =\n",
              "          document.querySelector('#df-6eded152-871a-45e6-8e38-928087d00185 button.colab-df-convert');\n",
              "        buttonEl.style.display =\n",
              "          google.colab.kernel.accessAllowed ? 'block' : 'none';\n",
              "\n",
              "        async function convertToInteractive(key) {\n",
              "          const element = document.querySelector('#df-6eded152-871a-45e6-8e38-928087d00185');\n",
              "          const dataTable =\n",
              "            await google.colab.kernel.invokeFunction('convertToInteractive',\n",
              "                                                     [key], {});\n",
              "          if (!dataTable) return;\n",
              "\n",
              "          const docLinkHtml = 'Like what you see? Visit the ' +\n",
              "            '<a target=\"_blank\" href=https://colab.research.google.com/notebooks/data_table.ipynb>data table notebook</a>'\n",
              "            + ' to learn more about interactive tables.';\n",
              "          element.innerHTML = '';\n",
              "          dataTable['output_type'] = 'display_data';\n",
              "          await google.colab.output.renderOutput(dataTable, element);\n",
              "          const docLink = document.createElement('div');\n",
              "          docLink.innerHTML = docLinkHtml;\n",
              "          element.appendChild(docLink);\n",
              "        }\n",
              "      </script>\n",
              "    </div>\n",
              "  </div>\n",
              "  "
            ]
          },
          "metadata": {},
          "execution_count": 127
        }
      ]
    },
    {
      "cell_type": "markdown",
      "source": [
        "Proceso de tockenización de las descripciones que estan en data.Description.values y quedaran en post_seq_padded"
      ],
      "metadata": {
        "id": "EErYBir_Hkfc"
      }
    },
    {
      "cell_type": "code",
      "execution_count": 103,
      "metadata": {
        "id": "UcFFsnxGC_mt"
      },
      "outputs": [],
      "source": [
        "MAX_LENGTH = 500\n",
        "tokenizer = Tokenizer()\n",
        "tokenizer.fit_on_texts(data.Description.values)\n",
        "#print(data.Description.values[0])\n",
        "post_seq = tokenizer.texts_to_sequences(data.Description.values)\n",
        "post_seq_padded = pad_sequences(post_seq, maxlen=MAX_LENGTH)\n",
        "\n"
      ]
    },
    {
      "cell_type": "code",
      "execution_count": 105,
      "metadata": {
        "id": "HNsmFxEDC_mu"
      },
      "outputs": [],
      "source": [
        "X_train, X_test, y_train, y_test = train_test_split(post_seq_padded, y, test_size=0.05,random_state=42)"
      ]
    },
    {
      "cell_type": "code",
      "execution_count": 106,
      "metadata": {
        "id": "9YMLnYO2C_mu"
      },
      "outputs": [],
      "source": [
        "vocab_size = len(tokenizer.word_index) + 1"
      ]
    },
    {
      "cell_type": "markdown",
      "metadata": {
        "id": "Ucec_w2TC_mv"
      },
      "source": [
        "# Deep Learning Model Simple"
      ]
    },
    {
      "cell_type": "markdown",
      "source": [
        "Selección y entrenamiento de modelos:\n",
        "RNN para clasificación: -\n",
        "Una canalización de clasificación de texto de un extremo a otro se compone de los siguientes componentes:\n",
        "1. Texto de entrenamiento: Es el texto de entrada a través del cual nuestro modelo de aprendizaje supervisado es capaz de aprender y predecir la clase requerida.\n",
        "2. Vector de características: un vector de características es un vector que contiene información que describe las características de los datos de entrada.\n",
        "3. Etiquetas: Estas son las categorías/clases predefinidas que nuestro modelo predecirá\n",
        "4. ML Algo: Es el algoritmo a través del cual nuestro modelo es capaz de lidiar con la clasificación de texto (En nuestro caso: CNN, RNN, HAN)\n",
        "5. Modelo predictivo: un modelo que se entrena en el conjunto de datos históricos que puede realizar predicciones de etiquetas."
      ],
      "metadata": {
        "id": "SdzQALsVXUfc"
      }
    },
    {
      "cell_type": "code",
      "execution_count": 104,
      "metadata": {
        "outputId": "b51a704f-2cdb-41b3-a11d-a5b494585c6a",
        "colab": {
          "base_uri": "https://localhost:8080/",
          "height": 105
        },
        "id": "qf52AmWpA9pW"
      },
      "outputs": [
        {
          "output_type": "execute_result",
          "data": {
            "text/plain": [
              "\"\\nMAX_LENGTH = 500\\ntokenizer = Tokenizer()\\n\\npaso = pd.DataFrame()\\npaso['Description'] = ['hello since recruiter lead permission approve requisitions makes please make thanks recruiter']\\npaso.head()\\npaso['Description'] = paso['Description'].astype(str)\\n\\n\\ntokenizer.fit_on_texts(data.Description.values)\\nprint(data.Description.values[0])\\npost_seq = tokenizer.texts_to_sequences(paso.Description.values)\\npost_seq_padded = pad_sequences(post_seq, maxlen=MAX_LENGTH)\\nprint(post_seq_padded[0])\\n\\n\""
            ],
            "application/vnd.google.colaboratory.intrinsic+json": {
              "type": "string"
            }
          },
          "metadata": {},
          "execution_count": 104
        }
      ],
      "source": [
        "'''\n",
        "MAX_LENGTH = 500\n",
        "tokenizer = Tokenizer()\n",
        "\n",
        "paso = pd.DataFrame()\n",
        "paso['Description'] = ['hello since recruiter lead permission approve requisitions makes please make thanks recruiter']\n",
        "paso.head()\n",
        "paso['Description'] = paso['Description'].astype(str)\n",
        "\n",
        "\n",
        "tokenizer.fit_on_texts(data.Description.values)\n",
        "print(data.Description.values[0])\n",
        "post_seq = tokenizer.texts_to_sequences(paso.Description.values)\n",
        "post_seq_padded = pad_sequences(post_seq, maxlen=MAX_LENGTH)\n",
        "print(post_seq_padded[0])\n",
        "\n",
        "'''\n",
        "\n"
      ]
    },
    {
      "cell_type": "code",
      "execution_count": null,
      "metadata": {
        "id": "jICnkjg9C_mv"
      },
      "outputs": [],
      "source": [
        "# MODELO 1\n",
        "inputs = Input(shape=(MAX_LENGTH, ))\n",
        "embedding_layer = Embedding(vocab_size,\n",
        "                            128,\n",
        "                            input_length=MAX_LENGTH)(inputs)\n",
        "x = Flatten()(embedding_layer)\n",
        "x = Dense(32, activation='relu')(x)\n",
        "\n",
        "predictions = Dense(num_class, activation='softmax')(x)\n",
        "model = Model(inputs=[inputs], outputs=predictions)\n"
      ]
    },
    {
      "cell_type": "code",
      "source": [
        "# Compile el modelo de Keras para configurar el proceso de entrenamiento:\n",
        "model.compile(optimizer='adam',\n",
        "              loss='categorical_crossentropy',\n",
        "              metrics=['acc'])\n",
        "\n",
        "model.summary()"
      ],
      "metadata": {
        "id": "9tR5zRsZKEHp"
      },
      "execution_count": null,
      "outputs": []
    },
    {
      "cell_type": "code",
      "source": [
        "# Entrena el modelo\n",
        "filepath=\"weights-simple.hdf5\"\n",
        "checkpointer = ModelCheckpoint(filepath, monitor='val_acc', verbose=1, save_best_only=True, mode='max')\n",
        "history = model.fit([X_train], batch_size=64, y=to_categorical(y_train), verbose=1, validation_split=0.25, \n",
        "          shuffle=True, epochs=10, callbacks=[checkpointer])"
      ],
      "metadata": {
        "id": "XTXiyEthKYRf"
      },
      "execution_count": null,
      "outputs": []
    },
    {
      "cell_type": "code",
      "execution_count": 108,
      "metadata": {
        "colab": {
          "base_uri": "https://localhost:8080/",
          "height": 282
        },
        "id": "x_udm9FVC_mw",
        "outputId": "859edc97-f449-4d3b-b7d2-9ae24afbf96b"
      },
      "outputs": [
        {
          "output_type": "display_data",
          "data": {
            "text/plain": [
              "<Figure size 432x288 with 1 Axes>"
            ],
            "image/png": "[encoded data removed]"
          },
          "metadata": {
            "needs_background": "light"
          }
        }
      ],
      "source": [
        "df = pd.DataFrame({'epochs':history.epoch, 'accuracy': history.history['acc'], 'validation_accuracy': history.history['val_acc']})\n",
        "g = sns.pointplot(x=\"epochs\", y=\"accuracy\", data=df, fit_reg=False)\n",
        "g = sns.pointplot(x=\"epochs\", y=\"validation_accuracy\", data=df, fit_reg=False, color='green')"
      ]
    },
    {
      "cell_type": "code",
      "source": [
        ""
      ],
      "metadata": {
        "id": "qHsJICT4N6RN"
      },
      "execution_count": null,
      "outputs": []
    },
    {
      "cell_type": "code",
      "execution_count": 126,
      "metadata": {
        "colab": {
          "base_uri": "https://localhost:8080/"
        },
        "id": "V7MWaOAbC_mx",
        "outputId": "414631f3-a501-4f68-ae96-bd046d9a9160"
      },
      "outputs": [
        {
          "output_type": "stream",
          "name": "stdout",
          "text": [
            "0\n"
          ]
        }
      ],
      "source": [
        "\n",
        "predicted = model.predict(X_test)\n",
        "predicted = np.argmax(predicted, axis=1)\n",
        "accuracy_score(y_test, predicted)\n",
        "print(predicted[0])\n",
        "\n"
      ]
    },
    {
      "cell_type": "code",
      "execution_count": 132,
      "metadata": {
        "outputId": "9fd0c2d9-c53c-4166-fef7-4aa1bd309bcc",
        "colab": {
          "base_uri": "https://localhost:8080/"
        },
        "id": "tqkD1C7aN6w9"
      },
      "outputs": [
        {
          "output_type": "stream",
          "name": "stdout",
          "text": [
            "hi since recruiter lead permission approve requisitions makes please make thanks recruiter\n",
            "[   0    0    0    0    0    0    0    0    0    0    0    0    0    0\n",
            "    0    0    0    0    0    0    0    0    0    0    0    0    0    0\n",
            "    0    0    0    0    0    0    0    0    0    0    0    0    0    0\n",
            "    0    0    0    0    0    0    0    0    0    0    0    0    0    0\n",
            "    0    0    0    0    0    0    0    0    0    0    0    0    0    0\n",
            "    0    0    0    0    0    0    0    0    0    0    0    0    0    0\n",
            "    0    0    0    0    0    0    0    0    0    0    0    0    0    0\n",
            "    0    0    0    0    0    0    0    0    0    0    0    0    0    0\n",
            "    0    0    0    0    0    0    0    0    0    0    0    0    0    0\n",
            "    0    0    0    0    0    0    0    0    0    0    0    0    0    0\n",
            "    0    0    0    0    0    0    0    0    0    0    0    0    0    0\n",
            "    0    0    0    0    0    0    0    0    0    0    0    0    0    0\n",
            "    0    0    0    0    0    0    0    0    0    0    0    0    0    0\n",
            "    0    0    0    0    0    0    0    0    0    0    0    0    0    0\n",
            "    0    0    0    0    0    0    0    0    0    0    0    0    0    0\n",
            "    0    0    0    0    0    0    0    0    0    0    0    0    0    0\n",
            "    0    0    0    0    0    0    0    0    0    0    0    0    0    0\n",
            "    0    0    0    0    0    0    0    0    0    0    0    0    0    0\n",
            "    0    0    0    0    0    0    0    0    0    0    0    0    0    0\n",
            "    0    0    0    0    0    0    0    0    0    0    0    0    0    0\n",
            "    0    0    0    0    0    0    0    0    0    0    0    0    0    0\n",
            "    0    0    0    0    0    0    0    0    0    0    0    0    0    0\n",
            "    0    0    0    0    0    0    0    0    0    0    0    0    0    0\n",
            "    0    0    0    0    0    0    0    0    0    0    0    0    0    0\n",
            "    0    0    0    0    0    0    0    0    0    0    0    0    0    0\n",
            "    0    0    0    0    0    0    0    0    0    0    0    0    0    0\n",
            "    0    0    0    0    0    0    0    0    0    0    0    0    0    0\n",
            "    0    0    0    0    0    0    0    0    0    0    0    0    0    0\n",
            "    0    0    0    0    0    0    0    0    0    0    0    0    0    0\n",
            "    0    0    0    0    0    0    0    0    0    0    0    0    0    0\n",
            "    0    0    0    0    0    0    0    0    0    0    0    0    0    0\n",
            "    0    0    0    0    0    0    0    0    0    0    0    0    0    0\n",
            "    0    0    0    0    0    0    0    0    0    0    0    0    0    0\n",
            "    0    0    0    0    0    0    0    0    0    0    0    0    0  370\n",
            "  698   15    1   17  506   53  230  387 1427  539  612  191    1  370\n",
            "  341  127  217  140  341 1512    4  419   58  698]\n",
            "[[1.5378942e-05 9.9049777e-01 8.7889414e-03 1.7976831e-04 5.1825959e-04]]\n"
          ]
        }
      ],
      "source": [
        "\n",
        "MAX_LENGTH = 500\n",
        "tokenizer = Tokenizer()\n",
        "\n",
        "paso = pd.DataFrame()\n",
        "paso['Description'] = ['complete colombia dear please help completed form testing internship student intern joining well please complete going his where he going seated thank compliance officer colombia\t\t']\n",
        "paso.head()\n",
        "paso['Description'] = paso['Description'].astype(str)\n",
        "\n",
        "\n",
        "tokenizer.fit_on_texts(data.Description.values)\n",
        "print(data.Description.values[0])\n",
        "post_seq = tokenizer.texts_to_sequences(paso.Description.values)\n",
        "post_seq_padded = pad_sequences(post_seq, maxlen=MAX_LENGTH)\n",
        "print(post_seq_padded[0])\n",
        "\n",
        "predicted = model.predict(post_seq_padded)\n",
        "print(predicted)\n",
        "\n",
        "\n"
      ]
    },
    {
      "cell_type": "markdown",
      "metadata": {
        "id": "OOYAMMh6C_mz"
      },
      "source": [
        "# RNN"
      ]
    },
    {
      "cell_type": "markdown",
      "source": [
        "Clasificación de incidentes utilizando la red neuronal recurrente (RNN):\n",
        "Una red neuronal recurrente (RNN) es una clase de red neuronal artificial donde las conexiones entre nodos forman un gráfico dirigido a lo largo de una secuencia. Esto le permite exhibir un comportamiento temporal dinámico durante una secuencia de tiempo.\n",
        "Usar el conocimiento de una incrustación externa puede mejorar la precisión de su RNN porque integra nueva información (léxica y semántica) sobre las palabras, una información que ha sido entrenada y destilada en un corpus de datos muy grande. utilizado es GloVe.\n",
        "RNN es una secuencia de bloques de redes neuronales que están vinculados entre sí como una cadena. Cada uno está pasando un mensaje a un sucesor."
      ],
      "metadata": {
        "id": "SE2sIs5KXojw"
      }
    },
    {
      "cell_type": "code",
      "execution_count": 110,
      "metadata": {
        "id": "kYJUtfzfC_mz",
        "outputId": "7bad8b11-e49b-4e2c-caab-62dea782e16f",
        "colab": {
          "base_uri": "https://localhost:8080/"
        }
      },
      "outputs": [
        {
          "output_type": "stream",
          "name": "stdout",
          "text": [
            "Model: \"model_4\"\n",
            "_________________________________________________________________\n",
            " Layer (type)                Output Shape              Param #   \n",
            "=================================================================\n",
            " input_5 (InputLayer)        [(None, 500)]             0         \n",
            "                                                                 \n",
            " embedding_4 (Embedding)     (None, 500, 128)          653312    \n",
            "                                                                 \n",
            " lstm_1 (LSTM)               (None, 64)                49408     \n",
            "                                                                 \n",
            " dense_8 (Dense)             (None, 32)                2080      \n",
            "                                                                 \n",
            " dense_9 (Dense)             (None, 5)                 165       \n",
            "                                                                 \n",
            "=================================================================\n",
            "Total params: 704,965\n",
            "Trainable params: 704,965\n",
            "Non-trainable params: 0\n",
            "_________________________________________________________________\n"
          ]
        }
      ],
      "source": [
        "inputs = Input(shape=(MAX_LENGTH, ))\n",
        "embedding_layer = Embedding(vocab_size,\n",
        "                            128,\n",
        "                            input_length=MAX_LENGTH)(inputs)\n",
        "\n",
        "x = LSTM(64)(embedding_layer)\n",
        "x = Dense(32, activation='relu')(x)\n",
        "predictions = Dense(num_class, activation='softmax')(x)\n",
        "model_lstm = Model(inputs=[inputs], outputs=predictions)\n",
        "model_lstm.compile(optimizer='adam',\n",
        "              loss='categorical_crossentropy',\n",
        "              metrics=['acc'])\n",
        "\n",
        "model_lstm.summary()"
      ]
    },
    {
      "cell_type": "code",
      "execution_count": 111,
      "metadata": {
        "id": "nyexdPGrC_m0",
        "outputId": "7b7d50a8-c12f-4b4b-d158-6f135aee3616",
        "colab": {
          "base_uri": "https://localhost:8080/"
        }
      },
      "outputs": [
        {
          "output_type": "stream",
          "name": "stdout",
          "text": [
            "Epoch 1/20\n",
            "34/34 [==============================] - ETA: 0s - loss: 1.5548 - acc: 0.3407\n",
            "Epoch 1: val_acc improved from -inf to 0.42637, saving model to weights.hdf5\n",
            "34/34 [==============================] - 18s 482ms/step - loss: 1.5548 - acc: 0.3407 - val_loss: 1.4125 - val_acc: 0.4264\n",
            "Epoch 2/20\n",
            "34/34 [==============================] - ETA: 0s - loss: 1.1418 - acc: 0.5555\n",
            "Epoch 2: val_acc improved from 0.42637 to 0.60309, saving model to weights.hdf5\n",
            "34/34 [==============================] - 17s 493ms/step - loss: 1.1418 - acc: 0.5555 - val_loss: 0.9981 - val_acc: 0.6031\n",
            "Epoch 3/20\n",
            "34/34 [==============================] - ETA: 0s - loss: 0.7959 - acc: 0.7113\n",
            "Epoch 3: val_acc improved from 0.60309 to 0.61431, saving model to weights.hdf5\n",
            "34/34 [==============================] - 16s 468ms/step - loss: 0.7959 - acc: 0.7113 - val_loss: 0.9011 - val_acc: 0.6143\n",
            "Epoch 4/20\n",
            "34/34 [==============================] - ETA: 0s - loss: 0.5510 - acc: 0.8114\n",
            "Epoch 4: val_acc improved from 0.61431 to 0.68583, saving model to weights.hdf5\n",
            "34/34 [==============================] - 16s 465ms/step - loss: 0.5510 - acc: 0.8114 - val_loss: 0.9258 - val_acc: 0.6858\n",
            "Epoch 5/20\n",
            "34/34 [==============================] - ETA: 0s - loss: 0.3981 - acc: 0.8746\n",
            "Epoch 5: val_acc did not improve from 0.68583\n",
            "34/34 [==============================] - 16s 469ms/step - loss: 0.3981 - acc: 0.8746 - val_loss: 0.9526 - val_acc: 0.6662\n",
            "Epoch 6/20\n",
            "34/34 [==============================] - ETA: 0s - loss: 0.2782 - acc: 0.9176\n",
            "Epoch 6: val_acc improved from 0.68583 to 0.69144, saving model to weights.hdf5\n",
            "34/34 [==============================] - 17s 514ms/step - loss: 0.2782 - acc: 0.9176 - val_loss: 1.0012 - val_acc: 0.6914\n",
            "Epoch 7/20\n",
            "34/34 [==============================] - ETA: 0s - loss: 0.2026 - acc: 0.9350\n",
            "Epoch 7: val_acc did not improve from 0.69144\n",
            "34/34 [==============================] - 16s 463ms/step - loss: 0.2026 - acc: 0.9350 - val_loss: 1.0748 - val_acc: 0.6578\n",
            "Epoch 8/20\n",
            "34/34 [==============================] - ETA: 0s - loss: 0.1590 - acc: 0.9537\n",
            "Epoch 8: val_acc did not improve from 0.69144\n",
            "34/34 [==============================] - 21s 627ms/step - loss: 0.1590 - acc: 0.9537 - val_loss: 1.1960 - val_acc: 0.6676\n",
            "Epoch 9/20\n",
            "34/34 [==============================] - ETA: 0s - loss: 0.1319 - acc: 0.9588\n",
            "Epoch 9: val_acc did not improve from 0.69144\n",
            "34/34 [==============================] - 16s 466ms/step - loss: 0.1319 - acc: 0.9588 - val_loss: 1.3040 - val_acc: 0.6802\n",
            "Epoch 10/20\n",
            "34/34 [==============================] - ETA: 0s - loss: 0.1156 - acc: 0.9686\n",
            "Epoch 10: val_acc did not improve from 0.69144\n",
            "34/34 [==============================] - 19s 573ms/step - loss: 0.1156 - acc: 0.9686 - val_loss: 1.3250 - val_acc: 0.6283\n",
            "Epoch 11/20\n",
            "34/34 [==============================] - ETA: 0s - loss: 0.1444 - acc: 0.9579\n",
            "Epoch 11: val_acc did not improve from 0.69144\n",
            "34/34 [==============================] - 24s 708ms/step - loss: 0.1444 - acc: 0.9579 - val_loss: 1.2792 - val_acc: 0.6718\n",
            "Epoch 12/20\n",
            "34/34 [==============================] - ETA: 0s - loss: 0.0893 - acc: 0.9743\n",
            "Epoch 12: val_acc did not improve from 0.69144\n",
            "34/34 [==============================] - 19s 564ms/step - loss: 0.0893 - acc: 0.9743 - val_loss: 1.6028 - val_acc: 0.6718\n",
            "Epoch 13/20\n",
            "34/34 [==============================] - ETA: 0s - loss: 0.0791 - acc: 0.9771\n",
            "Epoch 13: val_acc did not improve from 0.69144\n",
            "34/34 [==============================] - 21s 625ms/step - loss: 0.0791 - acc: 0.9771 - val_loss: 1.4351 - val_acc: 0.6746\n",
            "Epoch 14/20\n",
            "34/34 [==============================] - ETA: 0s - loss: 0.0644 - acc: 0.9794\n",
            "Epoch 14: val_acc did not improve from 0.69144\n",
            "34/34 [==============================] - 18s 524ms/step - loss: 0.0644 - acc: 0.9794 - val_loss: 1.5658 - val_acc: 0.6704\n",
            "Epoch 15/20\n",
            "34/34 [==============================] - ETA: 0s - loss: 0.0528 - acc: 0.9855\n",
            "Epoch 15: val_acc did not improve from 0.69144\n",
            "34/34 [==============================] - 16s 471ms/step - loss: 0.0528 - acc: 0.9855 - val_loss: 1.6269 - val_acc: 0.6690\n",
            "Epoch 16/20\n",
            "34/34 [==============================] - ETA: 0s - loss: 0.0536 - acc: 0.9836\n",
            "Epoch 16: val_acc did not improve from 0.69144\n",
            "34/34 [==============================] - 16s 473ms/step - loss: 0.0536 - acc: 0.9836 - val_loss: 1.5882 - val_acc: 0.6802\n",
            "Epoch 17/20\n",
            "34/34 [==============================] - ETA: 0s - loss: 0.0441 - acc: 0.9883\n",
            "Epoch 17: val_acc did not improve from 0.69144\n",
            "34/34 [==============================] - 16s 466ms/step - loss: 0.0441 - acc: 0.9883 - val_loss: 1.7905 - val_acc: 0.6872\n",
            "Epoch 18/20\n",
            "34/34 [==============================] - ETA: 0s - loss: 0.0413 - acc: 0.9883\n",
            "Epoch 18: val_acc did not improve from 0.69144\n",
            "34/34 [==============================] - 16s 472ms/step - loss: 0.0413 - acc: 0.9883 - val_loss: 1.8520 - val_acc: 0.6732\n",
            "Epoch 19/20\n",
            "34/34 [==============================] - ETA: 0s - loss: 0.0555 - acc: 0.9794\n",
            "Epoch 19: val_acc did not improve from 0.69144\n",
            "34/34 [==============================] - 16s 473ms/step - loss: 0.0555 - acc: 0.9794 - val_loss: 1.7733 - val_acc: 0.6578\n",
            "Epoch 20/20\n",
            "34/34 [==============================] - ETA: 0s - loss: 0.0675 - acc: 0.9775\n",
            "Epoch 20: val_acc did not improve from 0.69144\n",
            "34/34 [==============================] - 17s 490ms/step - loss: 0.0675 - acc: 0.9775 - val_loss: 1.6894 - val_acc: 0.6606\n"
          ]
        }
      ],
      "source": [
        "filepath=\"weights.hdf5\"\n",
        "checkpointer = ModelCheckpoint(filepath, monitor='val_acc', verbose=1, save_best_only=True, mode='max')\n",
        "history = model_lstm.fit([X_train], batch_size=64, y=to_categorical(y_train), verbose=1, validation_split=0.25, \n",
        "          shuffle=True, epochs=20, callbacks=[checkpointer])"
      ]
    },
    {
      "cell_type": "code",
      "execution_count": 112,
      "metadata": {
        "id": "L8qdJqq6C_m1",
        "outputId": "fb225553-87c0-43eb-a446-c9868043666b",
        "colab": {
          "base_uri": "https://localhost:8080/",
          "height": 282
        }
      },
      "outputs": [
        {
          "output_type": "display_data",
          "data": {
            "text/plain": [
              "<Figure size 432x288 with 1 Axes>"
            ],
            "image/png": "[encoded data removed]"
          },
          "metadata": {
            "needs_background": "light"
          }
        }
      ],
      "source": [
        "df = pd.DataFrame({'epochs':history.epoch, 'accuracy': history.history['acc'], 'validation_accuracy': history.history['val_acc']})\n",
        "g = sns.pointplot(x=\"epochs\", y=\"accuracy\", data=df, fit_reg=False)\n",
        "g = sns.pointplot(x=\"epochs\", y=\"validation_accuracy\", data=df, fit_reg=False, color='green')"
      ]
    },
    {
      "cell_type": "code",
      "execution_count": 113,
      "metadata": {
        "id": "ySEcm8dOC_m2",
        "colab": {
          "base_uri": "https://localhost:8080/"
        },
        "outputId": "39ed5763-d447-4d68-cd74-bb9763e665e2"
      },
      "outputs": [
        {
          "output_type": "execute_result",
          "data": {
            "text/plain": [
              "0.6133333333333333"
            ]
          },
          "metadata": {},
          "execution_count": 113
        }
      ],
      "source": [
        "predicted = model.predict(X_test)\n",
        "predicted = np.argmax(predicted, axis=1)\n",
        "accuracy_score(y_test, predicted)"
      ]
    },
    {
      "cell_type": "code",
      "execution_count": 114,
      "metadata": {
        "id": "ba2BRvIWC_m3",
        "outputId": "aab8e7d4-6406-4fd6-eed8-defd77561e9f",
        "colab": {
          "base_uri": "https://localhost:8080/"
        }
      },
      "outputs": [
        {
          "output_type": "execute_result",
          "data": {
            "text/plain": [
              "array([0, 0, 4, 4, 3, 2, 4, 3, 2, 2, 3, 0, 1, 0, 2, 2, 2, 2, 2, 1, 0, 0,\n",
              "       0, 3, 1, 2, 2, 4, 0, 4, 2, 0, 1, 2, 4, 2, 3, 0, 0, 4, 4, 4, 0, 1,\n",
              "       4, 4, 3, 0, 0, 4, 2, 2, 0, 2, 2, 1, 4, 1, 2, 1, 1, 0, 1, 0, 0, 0,\n",
              "       4, 0, 4, 0, 4, 2, 2, 2, 2, 2, 2, 2, 3, 2, 0, 2, 1, 4, 3, 0, 2, 4,\n",
              "       2, 2, 0, 0, 2, 0, 4, 0, 2, 3, 0, 4, 3, 2, 1, 4, 4, 0, 2, 2, 0, 4,\n",
              "       3, 0, 2, 3, 4, 2, 0, 0, 4, 3, 2, 2, 2, 4, 3, 3, 3, 2, 1, 2, 2, 4,\n",
              "       4, 4, 2, 0, 2, 4, 2, 3, 2, 4, 2, 2, 3, 0, 3, 3, 3, 0])"
            ]
          },
          "metadata": {},
          "execution_count": 114
        }
      ],
      "source": [
        "predicted"
      ]
    },
    {
      "cell_type": "code",
      "execution_count": 115,
      "metadata": {
        "id": "Y3TwwD3iC_m3",
        "colab": {
          "base_uri": "https://localhost:8080/",
          "height": 345
        },
        "outputId": "7bec5995-f0da-4531-af54-686d3ac91863"
      },
      "outputs": [
        {
          "output_type": "error",
          "ename": "AxisError",
          "evalue": "ignored",
          "traceback": [
            "\u001b[0;31m---------------------------------------------------------------------------\u001b[0m",
            "\u001b[0;31mAxisError\u001b[0m                                 Traceback (most recent call last)",
            "\u001b[0;32m<ipython-input-115-fcb03127ca5e>\u001b[0m in \u001b[0;36m<module>\u001b[0;34m()\u001b[0m\n\u001b[0;32m----> 1\u001b[0;31m \u001b[0mpredicted\u001b[0m \u001b[0;34m=\u001b[0m \u001b[0mnp\u001b[0m\u001b[0;34m.\u001b[0m\u001b[0margmax\u001b[0m\u001b[0;34m(\u001b[0m\u001b[0mpredicted\u001b[0m\u001b[0;34m,\u001b[0m \u001b[0maxis\u001b[0m\u001b[0;34m=\u001b[0m\u001b[0;36m1\u001b[0m\u001b[0;34m)\u001b[0m\u001b[0;34m\u001b[0m\u001b[0;34m\u001b[0m\u001b[0m\n\u001b[0m",
            "\u001b[0;32m<__array_function__ internals>\u001b[0m in \u001b[0;36margmax\u001b[0;34m(*args, **kwargs)\u001b[0m\n",
            "\u001b[0;32m/usr/local/lib/python3.7/dist-packages/numpy/core/fromnumeric.py\u001b[0m in \u001b[0;36margmax\u001b[0;34m(a, axis, out)\u001b[0m\n\u001b[1;32m   1193\u001b[0m \u001b[0;34m\u001b[0m\u001b[0m\n\u001b[1;32m   1194\u001b[0m     \"\"\"\n\u001b[0;32m-> 1195\u001b[0;31m     \u001b[0;32mreturn\u001b[0m \u001b[0m_wrapfunc\u001b[0m\u001b[0;34m(\u001b[0m\u001b[0ma\u001b[0m\u001b[0;34m,\u001b[0m \u001b[0;34m'argmax'\u001b[0m\u001b[0;34m,\u001b[0m \u001b[0maxis\u001b[0m\u001b[0;34m=\u001b[0m\u001b[0maxis\u001b[0m\u001b[0;34m,\u001b[0m \u001b[0mout\u001b[0m\u001b[0;34m=\u001b[0m\u001b[0mout\u001b[0m\u001b[0;34m)\u001b[0m\u001b[0;34m\u001b[0m\u001b[0;34m\u001b[0m\u001b[0m\n\u001b[0m\u001b[1;32m   1196\u001b[0m \u001b[0;34m\u001b[0m\u001b[0m\n\u001b[1;32m   1197\u001b[0m \u001b[0;34m\u001b[0m\u001b[0m\n",
            "\u001b[0;32m/usr/local/lib/python3.7/dist-packages/numpy/core/fromnumeric.py\u001b[0m in \u001b[0;36m_wrapfunc\u001b[0;34m(obj, method, *args, **kwds)\u001b[0m\n\u001b[1;32m     55\u001b[0m \u001b[0;34m\u001b[0m\u001b[0m\n\u001b[1;32m     56\u001b[0m     \u001b[0;32mtry\u001b[0m\u001b[0;34m:\u001b[0m\u001b[0;34m\u001b[0m\u001b[0;34m\u001b[0m\u001b[0m\n\u001b[0;32m---> 57\u001b[0;31m         \u001b[0;32mreturn\u001b[0m \u001b[0mbound\u001b[0m\u001b[0;34m(\u001b[0m\u001b[0;34m*\u001b[0m\u001b[0margs\u001b[0m\u001b[0;34m,\u001b[0m \u001b[0;34m**\u001b[0m\u001b[0mkwds\u001b[0m\u001b[0;34m)\u001b[0m\u001b[0;34m\u001b[0m\u001b[0;34m\u001b[0m\u001b[0m\n\u001b[0m\u001b[1;32m     58\u001b[0m     \u001b[0;32mexcept\u001b[0m \u001b[0mTypeError\u001b[0m\u001b[0;34m:\u001b[0m\u001b[0;34m\u001b[0m\u001b[0;34m\u001b[0m\u001b[0m\n\u001b[1;32m     59\u001b[0m         \u001b[0;31m# A TypeError occurs if the object does have such a method in its\u001b[0m\u001b[0;34m\u001b[0m\u001b[0;34m\u001b[0m\u001b[0;34m\u001b[0m\u001b[0m\n",
            "\u001b[0;31mAxisError\u001b[0m: axis 1 is out of bounds for array of dimension 1"
          ]
        }
      ],
      "source": [
        "predicted = np.argmax(predicted, axis=1)"
      ]
    },
    {
      "cell_type": "code",
      "execution_count": null,
      "metadata": {
        "id": "HlztXFJoC_m4"
      },
      "outputs": [],
      "source": [
        "accuracy_score(y_test, predicted)"
      ]
    },
    {
      "cell_type": "code",
      "execution_count": null,
      "metadata": {
        "id": "d80PCruaC_m4"
      },
      "outputs": [],
      "source": [
        "from sklearn.metrics import classification_report\n",
        "print(classification_report(y_test, predicted))"
      ]
    },
    {
      "cell_type": "code",
      "source": [
        "print(y_test, predicted)"
      ],
      "metadata": {
        "id": "FpWCaExDy5AZ"
      },
      "execution_count": null,
      "outputs": []
    },
    {
      "cell_type": "code",
      "source": [
        "print(X_test[30])"
      ],
      "metadata": {
        "id": "WApLG3c_EJJe"
      },
      "execution_count": null,
      "outputs": []
    },
    {
      "cell_type": "code",
      "execution_count": null,
      "metadata": {
        "id": "XSPB7-GlC_m5"
      },
      "outputs": [],
      "source": [
        "from sklearn.metrics import confusion_matrix\n",
        "from sklearn.preprocessing import LabelEncoder\n",
        "import itertools"
      ]
    },
    {
      "cell_type": "code",
      "source": [
        ""
      ],
      "metadata": {
        "id": "hrwb0w0by4XK"
      },
      "execution_count": null,
      "outputs": []
    },
    {
      "cell_type": "code",
      "execution_count": null,
      "metadata": {
        "id": "2dJ-FtNYC_m6"
      },
      "outputs": [],
      "source": [
        "# This utility function is from the sklearn docs: http://scikit-learn.org/stable/auto_examples/model_selection/plot_confusion_matrix.html\n",
        "def plot_confusion_matrix(cm, classes,\n",
        "                          title='Confusion matrix',\n",
        "                          cmap=plt.cm.Blues):\n",
        "    \"\"\"\n",
        "    This function prints and plots the confusion matrix.\n",
        "    Normalization can be applied by setting `normalize=True`.\n",
        "    \"\"\"\n",
        "\n",
        "    cm = cm.astype('float') / cm.sum(axis=1)[:, np.newaxis]\n",
        "\n",
        "    plt.imshow(cm, interpolation='nearest', cmap=cmap)\n",
        "    plt.title(title, fontsize=30)\n",
        "    plt.colorbar()\n",
        "    tick_marks = np.arange(len(classes))\n",
        "    plt.xticks(tick_marks, classes, rotation=45, fontsize=22)\n",
        "    plt.yticks(tick_marks, classes, fontsize=22)\n",
        "\n",
        "    fmt = '.2f'\n",
        "    thresh = cm.max() / 2.\n",
        "    for i, j in itertools.product(range(cm.shape[0]), range(cm.shape[1])):\n",
        "        plt.text(j, i, format(cm[i, j], fmt),\n",
        "                 horizontalalignment=\"center\",\n",
        "                 color=\"white\" if cm[i, j] > thresh else \"black\")\n",
        "\n",
        "    plt.ylabel('True label', fontsize=25)\n",
        "    plt.xlabel('Predicted label', fontsize=25)"
      ]
    },
    {
      "cell_type": "code",
      "execution_count": null,
      "metadata": {
        "id": "uufKu-l0C_m7"
      },
      "outputs": [],
      "source": [
        "# Use sklearn utility to convert label strings to numbered index\n",
        "encoder = LabelEncoder()\n",
        "encoder.fit(data.Category.values)\n",
        "text_labels = encoder.classes_ \n",
        "cnf_matrix = confusion_matrix(y_test, predicted)\n",
        "plt.figure(figsize=(10,10))\n",
        "plot_confusion_matrix(cnf_matrix, classes=text_labels, title=\"Confusion matrix\")\n",
        "plt.show()"
      ]
    },
    {
      "cell_type": "code",
      "execution_count": null,
      "metadata": {
        "id": "Zhim71m_C_nM"
      },
      "outputs": [],
      "source": [
        ""
      ]
    },
    {
      "cell_type": "code",
      "source": [
        ""
      ],
      "metadata": {
        "id": "FXcF91duxTby"
      },
      "execution_count": null,
      "outputs": []
    },
    {
      "cell_type": "code",
      "source": [
        "tokenizer = Tokenizer()\n",
        "tokenizer.fit_on_texts(\"hi since recruiter lead permission approve requisitions makes please make thanks recruiter\t\t\")\n",
        "post_seq = tokenizer.texts_to_sequences(\"hi since recruiter lead permission approve requisitions makes please make thanks recruiter\t\")\n",
        "post_seq_padded = pad_sequences(post_seq, maxlen=MAX_LENGTH)\n",
        "\n",
        "print(post_seq_padded[0])\n",
        "\n",
        "predicted = model_lstm.predict(post_seq_padded)\n",
        "print(predicted[0])"
      ],
      "metadata": {
        "id": "7wtHmYaXxXOQ"
      },
      "execution_count": null,
      "outputs": []
    }
  ],
  "metadata": {
    "kernelspec": {
      "display_name": "Python 3",
      "language": "python",
      "name": "python3"
    },
    "language_info": {
      "codemirror_mode": {
        "name": "ipython",
        "version": 3
      },
      "file_extension": ".py",
      "mimetype": "text/x-python",
      "name": "python",
      "nbconvert_exporter": "python",
      "pygments_lexer": "ipython3",
      "version": "3.6.5"
    },
    "colab": {
      "name": "Support_Ticket_Classification.ipynb",
      "provenance": []
    }
  },
  "nbformat": 4,
  "nbformat_minor": 0
}