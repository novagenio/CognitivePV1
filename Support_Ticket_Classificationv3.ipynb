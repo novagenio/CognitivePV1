{
  "cells": [
    {
      "cell_type": "markdown",
      "source": [
        "En este proyecto abordaremos la clasificación de incidencias de la herramienta ServiceNow, para lo cual antes de diseñar nuestro modelo necesitamos generar nuestro data set de entrenamiento, el cual no es simple, no solo es leer un data set de origen, si no que necesitaremos preparar nuestros datos. \n",
        "\n",
        "El flujo de trabajo general del proceso se puede dividir en varias subpartes. En la siguiente figura se muestra una descripción general de muy alto nivel.\n",
        "\n",
        "![A diagram](https://github.com/novagenio/CognitivePV1/blob/main/images/workflow.png?raw=true)\n",
        "\n",
        "El conjunto de datos se extrae directamente de un repositorio publico de ServiceNow. El preprocesamiento inicial de datos incluye la limpieza de datos (eliminación de duplicados, eliminación de filas vacías, eliminación de palabras vacías, etc.)\n",
        "Los datos originales no estaban etiquetados y contenían solo las descripciones de los ticket. Dado que el enfoque seleccionado para este proyecto es la clasificación, necesitábamos algún mecanismo para convertir estos datos no etiquetados en datos etiquetados. \n",
        "\n",
        "Uno de los enfoques populares para esto es el modelado de las descripciones. El modelado de las descripciones nos permitira seleccionar las 5 categorías principales para nuestros datos, lo que nos ayudara a crear los datos etiquetados (categorías de incidentes).\n",
        "\n",
        "Leemos los datos del fichero cvs. \"No son datos extraidos de ServiceNow\" son de un repositorio publico en Kaggle. \n",
        "Realizamos ELA y preprocesado"
      ],
      "metadata": {
        "id": "bQzrYwZwv8cF"
      }
    },
    {
      "cell_type": "code",
      "execution_count": 4,
      "metadata": {
        "colab": {
          "base_uri": "https://localhost:8080/",
          "height": 17
        },
        "id": "0An58QGeC_lz",
        "outputId": "d23e8b44-b6ce-424f-8a98-7b56634ae682"
      },
      "outputs": [
        {
          "output_type": "display_data",
          "data": {
            "text/plain": [
              "<IPython.core.display.HTML object>"
            ],
            "text/html": [
              "<style>.container { width:100% !important; }</style>"
            ]
          },
          "metadata": {}
        }
      ],
      "source": [
        "# libraries\n",
        "\n",
        "### https://github.com/pankajkishore/Cognitive-Project\n",
        "\n",
        "import keras \n",
        "import numpy as np\n",
        "from keras.preprocessing.text import Tokenizer\n",
        "import numpy as np\n",
        "import pandas as pd\n",
        "from keras.models import Sequential\n",
        "from keras.layers import Dense\n",
        "from keras.preprocessing.sequence import pad_sequences\n",
        "from keras.layers import Input, Dense, Dropout, Embedding, LSTM, Flatten\n",
        "from keras.models import Model\n",
        "from tensorflow.keras.utils import to_categorical  # LGU\n",
        "from keras.callbacks import ModelCheckpoint\n",
        "import seaborn as sns\n",
        "import matplotlib.pyplot as plt\n",
        "from sklearn.model_selection import train_test_split\n",
        "from sklearn.metrics import accuracy_score\n",
        "plt.style.use('ggplot')\n",
        "%matplotlib inline\n",
        "from IPython.core.display import display, HTML\n",
        "display(HTML(\"<style>.container { width:100% !important; }</style>\"))\n"
      ]
    },
    {
      "cell_type": "code",
      "source": [
        "### Leemos los datos del dataset"
      ],
      "metadata": {
        "id": "Z5SKnjwC30Ed"
      },
      "execution_count": 5,
      "outputs": []
    },
    {
      "cell_type": "markdown",
      "source": [
        "### Nueva sección"
      ],
      "metadata": {
        "id": "Q57ikp0nTSwn"
      }
    },
    {
      "cell_type": "markdown",
      "source": [
        "Leemos los datos del dataset, mostramos, contamos categorias y definimos un target numerico por categoria"
      ],
      "metadata": {
        "id": "ZeT7ZVxm4XOY"
      }
    },
    {
      "cell_type": "code",
      "execution_count": 6,
      "metadata": {
        "id": "7sP18r8aC_l7"
      },
      "outputs": [],
      "source": [
        "data = pd.read_csv('latest_ticket_data.csv')"
      ]
    },
    {
      "cell_type": "code",
      "execution_count": 7,
      "metadata": {
        "colab": {
          "base_uri": "https://localhost:8080/",
          "height": 206
        },
        "id": "F-ccN9LwC_l9",
        "outputId": "f9608bbe-f5b5-40cc-895c-eab7ab80beb2"
      },
      "outputs": [
        {
          "output_type": "execute_result",
          "data": {
            "text/plain": [
              "                                         Description     Category\n",
              "0  hi since recruiter lead permission approve req...  Application\n",
              "1  re expire days hi ask help update passwords co...  Application\n",
              "2  verification warning hi has got attached pleas...  Application\n",
              "3  please dear looks blacklisted receiving mails ...  Application\n",
              "4  dear modules report report cost thank much reg...  Application"
            ],
            "text/html": [
              "\n",
              "  <div id=\"df-3fc366ea-33a7-4917-af06-dc9ac84be973\">\n",
              "    <div class=\"colab-df-container\">\n",
              "      <div>\n",
              "<style scoped>\n",
              "    .dataframe tbody tr th:only-of-type {\n",
              "        vertical-align: middle;\n",
              "    }\n",
              "\n",
              "    .dataframe tbody tr th {\n",
              "        vertical-align: top;\n",
              "    }\n",
              "\n",
              "    .dataframe thead th {\n",
              "        text-align: right;\n",
              "    }\n",
              "</style>\n",
              "<table border=\"1\" class=\"dataframe\">\n",
              "  <thead>\n",
              "    <tr style=\"text-align: right;\">\n",
              "      <th></th>\n",
              "      <th>Description</th>\n",
              "      <th>Category</th>\n",
              "    </tr>\n",
              "  </thead>\n",
              "  <tbody>\n",
              "    <tr>\n",
              "      <th>0</th>\n",
              "      <td>hi since recruiter lead permission approve req...</td>\n",
              "      <td>Application</td>\n",
              "    </tr>\n",
              "    <tr>\n",
              "      <th>1</th>\n",
              "      <td>re expire days hi ask help update passwords co...</td>\n",
              "      <td>Application</td>\n",
              "    </tr>\n",
              "    <tr>\n",
              "      <th>2</th>\n",
              "      <td>verification warning hi has got attached pleas...</td>\n",
              "      <td>Application</td>\n",
              "    </tr>\n",
              "    <tr>\n",
              "      <th>3</th>\n",
              "      <td>please dear looks blacklisted receiving mails ...</td>\n",
              "      <td>Application</td>\n",
              "    </tr>\n",
              "    <tr>\n",
              "      <th>4</th>\n",
              "      <td>dear modules report report cost thank much reg...</td>\n",
              "      <td>Application</td>\n",
              "    </tr>\n",
              "  </tbody>\n",
              "</table>\n",
              "</div>\n",
              "      <button class=\"colab-df-convert\" onclick=\"convertToInteractive('df-3fc366ea-33a7-4917-af06-dc9ac84be973')\"\n",
              "              title=\"Convert this dataframe to an interactive table.\"\n",
              "              style=\"display:none;\">\n",
              "        \n",
              "  <svg xmlns=\"http://www.w3.org/2000/svg\" height=\"24px\"viewBox=\"0 0 24 24\"\n",
              "       width=\"24px\">\n",
              "    <path d=\"M0 0h24v24H0V0z\" fill=\"none\"/>\n",
              "    <path d=\"M18.56 5.44l.94 2.06.94-2.06 2.06-.94-2.06-.94-.94-2.06-.94 2.06-2.06.94zm-11 1L8.5 8.5l.94-2.06 2.06-.94-2.06-.94L8.5 2.5l-.94 2.06-2.06.94zm10 10l.94 2.06.94-2.06 2.06-.94-2.06-.94-.94-2.06-.94 2.06-2.06.94z\"/><path d=\"M17.41 7.96l-1.37-1.37c-.4-.4-.92-.59-1.43-.59-.52 0-1.04.2-1.43.59L10.3 9.45l-7.72 7.72c-.78.78-.78 2.05 0 2.83L4 21.41c.39.39.9.59 1.41.59.51 0 1.02-.2 1.41-.59l7.78-7.78 2.81-2.81c.8-.78.8-2.07 0-2.86zM5.41 20L4 18.59l7.72-7.72 1.47 1.35L5.41 20z\"/>\n",
              "  </svg>\n",
              "      </button>\n",
              "      \n",
              "  <style>\n",
              "    .colab-df-container {\n",
              "      display:flex;\n",
              "      flex-wrap:wrap;\n",
              "      gap: 12px;\n",
              "    }\n",
              "\n",
              "    .colab-df-convert {\n",
              "      background-color: #E8F0FE;\n",
              "      border: none;\n",
              "      border-radius: 50%;\n",
              "      cursor: pointer;\n",
              "      display: none;\n",
              "      fill: #1967D2;\n",
              "      height: 32px;\n",
              "      padding: 0 0 0 0;\n",
              "      width: 32px;\n",
              "    }\n",
              "\n",
              "    .colab-df-convert:hover {\n",
              "      background-color: #E2EBFA;\n",
              "      box-shadow: 0px 1px 2px rgba(60, 64, 67, 0.3), 0px 1px 3px 1px rgba(60, 64, 67, 0.15);\n",
              "      fill: #174EA6;\n",
              "    }\n",
              "\n",
              "    [theme=dark] .colab-df-convert {\n",
              "      background-color: #3B4455;\n",
              "      fill: #D2E3FC;\n",
              "    }\n",
              "\n",
              "    [theme=dark] .colab-df-convert:hover {\n",
              "      background-color: #434B5C;\n",
              "      box-shadow: 0px 1px 3px 1px rgba(0, 0, 0, 0.15);\n",
              "      filter: drop-shadow(0px 1px 2px rgba(0, 0, 0, 0.3));\n",
              "      fill: #FFFFFF;\n",
              "    }\n",
              "  </style>\n",
              "\n",
              "      <script>\n",
              "        const buttonEl =\n",
              "          document.querySelector('#df-3fc366ea-33a7-4917-af06-dc9ac84be973 button.colab-df-convert');\n",
              "        buttonEl.style.display =\n",
              "          google.colab.kernel.accessAllowed ? 'block' : 'none';\n",
              "\n",
              "        async function convertToInteractive(key) {\n",
              "          const element = document.querySelector('#df-3fc366ea-33a7-4917-af06-dc9ac84be973');\n",
              "          const dataTable =\n",
              "            await google.colab.kernel.invokeFunction('convertToInteractive',\n",
              "                                                     [key], {});\n",
              "          if (!dataTable) return;\n",
              "\n",
              "          const docLinkHtml = 'Like what you see? Visit the ' +\n",
              "            '<a target=\"_blank\" href=https://colab.research.google.com/notebooks/data_table.ipynb>data table notebook</a>'\n",
              "            + ' to learn more about interactive tables.';\n",
              "          element.innerHTML = '';\n",
              "          dataTable['output_type'] = 'display_data';\n",
              "          await google.colab.output.renderOutput(dataTable, element);\n",
              "          const docLink = document.createElement('div');\n",
              "          docLink.innerHTML = docLinkHtml;\n",
              "          element.appendChild(docLink);\n",
              "        }\n",
              "      </script>\n",
              "    </div>\n",
              "  </div>\n",
              "  "
            ]
          },
          "metadata": {},
          "execution_count": 7
        }
      ],
      "source": [
        "data.head()"
      ]
    },
    {
      "cell_type": "code",
      "execution_count": 8,
      "metadata": {
        "colab": {
          "base_uri": "https://localhost:8080/"
        },
        "id": "REMn4J2LC_l_",
        "outputId": "7d3d2b9c-5af5-4c4c-ae6e-17a514e95f4d"
      },
      "outputs": [
        {
          "output_type": "execute_result",
          "data": {
            "text/plain": [
              "Application         600\n",
              "Database            600\n",
              "Network             600\n",
              "User Maintenance    600\n",
              "Security            600\n",
              "Name: Category, dtype: int64"
            ]
          },
          "metadata": {},
          "execution_count": 8
        }
      ],
      "source": [
        "data.Category.value_counts()"
      ]
    },
    {
      "cell_type": "code",
      "execution_count": 9,
      "metadata": {
        "id": "R-GGlxIMC_mA"
      },
      "outputs": [],
      "source": [
        "data['target'] = data.Category.astype('category').cat.codes"
      ]
    },
    {
      "cell_type": "code",
      "execution_count": 10,
      "metadata": {
        "colab": {
          "base_uri": "https://localhost:8080/",
          "height": 424
        },
        "id": "0OvEA7akC_mB",
        "outputId": "46e6022b-b056-47a4-af52-22705c2048a6"
      },
      "outputs": [
        {
          "output_type": "execute_result",
          "data": {
            "text/plain": [
              "                                           Description     Category  target\n",
              "0    hi since recruiter lead permission approve req...  Application       0\n",
              "1    re expire days hi ask help update passwords co...  Application       0\n",
              "2    verification warning hi has got attached pleas...  Application       0\n",
              "3    please dear looks blacklisted receiving mails ...  Application       0\n",
              "4    dear modules report report cost thank much reg...  Application       0\n",
              "..                                                 ...          ...     ...\n",
              "495  information user requested installation hello ...  Application       0\n",
              "496  hi please issue assign thank best regards engi...  Application       0\n",
              "497  unknown pipeline code hi add unknown pipeline ...  Application       0\n",
              "498  setup form hello please two tickets thank kind...  Application       0\n",
              "499  re confluence tools dear please find attached ...  Application       0\n",
              "\n",
              "[500 rows x 3 columns]"
            ],
            "text/html": [
              "\n",
              "  <div id=\"df-cfd301cd-4e89-4a49-9016-afa0f89a3b74\">\n",
              "    <div class=\"colab-df-container\">\n",
              "      <div>\n",
              "<style scoped>\n",
              "    .dataframe tbody tr th:only-of-type {\n",
              "        vertical-align: middle;\n",
              "    }\n",
              "\n",
              "    .dataframe tbody tr th {\n",
              "        vertical-align: top;\n",
              "    }\n",
              "\n",
              "    .dataframe thead th {\n",
              "        text-align: right;\n",
              "    }\n",
              "</style>\n",
              "<table border=\"1\" class=\"dataframe\">\n",
              "  <thead>\n",
              "    <tr style=\"text-align: right;\">\n",
              "      <th></th>\n",
              "      <th>Description</th>\n",
              "      <th>Category</th>\n",
              "      <th>target</th>\n",
              "    </tr>\n",
              "  </thead>\n",
              "  <tbody>\n",
              "    <tr>\n",
              "      <th>0</th>\n",
              "      <td>hi since recruiter lead permission approve req...</td>\n",
              "      <td>Application</td>\n",
              "      <td>0</td>\n",
              "    </tr>\n",
              "    <tr>\n",
              "      <th>1</th>\n",
              "      <td>re expire days hi ask help update passwords co...</td>\n",
              "      <td>Application</td>\n",
              "      <td>0</td>\n",
              "    </tr>\n",
              "    <tr>\n",
              "      <th>2</th>\n",
              "      <td>verification warning hi has got attached pleas...</td>\n",
              "      <td>Application</td>\n",
              "      <td>0</td>\n",
              "    </tr>\n",
              "    <tr>\n",
              "      <th>3</th>\n",
              "      <td>please dear looks blacklisted receiving mails ...</td>\n",
              "      <td>Application</td>\n",
              "      <td>0</td>\n",
              "    </tr>\n",
              "    <tr>\n",
              "      <th>4</th>\n",
              "      <td>dear modules report report cost thank much reg...</td>\n",
              "      <td>Application</td>\n",
              "      <td>0</td>\n",
              "    </tr>\n",
              "    <tr>\n",
              "      <th>...</th>\n",
              "      <td>...</td>\n",
              "      <td>...</td>\n",
              "      <td>...</td>\n",
              "    </tr>\n",
              "    <tr>\n",
              "      <th>495</th>\n",
              "      <td>information user requested installation hello ...</td>\n",
              "      <td>Application</td>\n",
              "      <td>0</td>\n",
              "    </tr>\n",
              "    <tr>\n",
              "      <th>496</th>\n",
              "      <td>hi please issue assign thank best regards engi...</td>\n",
              "      <td>Application</td>\n",
              "      <td>0</td>\n",
              "    </tr>\n",
              "    <tr>\n",
              "      <th>497</th>\n",
              "      <td>unknown pipeline code hi add unknown pipeline ...</td>\n",
              "      <td>Application</td>\n",
              "      <td>0</td>\n",
              "    </tr>\n",
              "    <tr>\n",
              "      <th>498</th>\n",
              "      <td>setup form hello please two tickets thank kind...</td>\n",
              "      <td>Application</td>\n",
              "      <td>0</td>\n",
              "    </tr>\n",
              "    <tr>\n",
              "      <th>499</th>\n",
              "      <td>re confluence tools dear please find attached ...</td>\n",
              "      <td>Application</td>\n",
              "      <td>0</td>\n",
              "    </tr>\n",
              "  </tbody>\n",
              "</table>\n",
              "<p>500 rows × 3 columns</p>\n",
              "</div>\n",
              "      <button class=\"colab-df-convert\" onclick=\"convertToInteractive('df-cfd301cd-4e89-4a49-9016-afa0f89a3b74')\"\n",
              "              title=\"Convert this dataframe to an interactive table.\"\n",
              "              style=\"display:none;\">\n",
              "        \n",
              "  <svg xmlns=\"http://www.w3.org/2000/svg\" height=\"24px\"viewBox=\"0 0 24 24\"\n",
              "       width=\"24px\">\n",
              "    <path d=\"M0 0h24v24H0V0z\" fill=\"none\"/>\n",
              "    <path d=\"M18.56 5.44l.94 2.06.94-2.06 2.06-.94-2.06-.94-.94-2.06-.94 2.06-2.06.94zm-11 1L8.5 8.5l.94-2.06 2.06-.94-2.06-.94L8.5 2.5l-.94 2.06-2.06.94zm10 10l.94 2.06.94-2.06 2.06-.94-2.06-.94-.94-2.06-.94 2.06-2.06.94z\"/><path d=\"M17.41 7.96l-1.37-1.37c-.4-.4-.92-.59-1.43-.59-.52 0-1.04.2-1.43.59L10.3 9.45l-7.72 7.72c-.78.78-.78 2.05 0 2.83L4 21.41c.39.39.9.59 1.41.59.51 0 1.02-.2 1.41-.59l7.78-7.78 2.81-2.81c.8-.78.8-2.07 0-2.86zM5.41 20L4 18.59l7.72-7.72 1.47 1.35L5.41 20z\"/>\n",
              "  </svg>\n",
              "      </button>\n",
              "      \n",
              "  <style>\n",
              "    .colab-df-container {\n",
              "      display:flex;\n",
              "      flex-wrap:wrap;\n",
              "      gap: 12px;\n",
              "    }\n",
              "\n",
              "    .colab-df-convert {\n",
              "      background-color: #E8F0FE;\n",
              "      border: none;\n",
              "      border-radius: 50%;\n",
              "      cursor: pointer;\n",
              "      display: none;\n",
              "      fill: #1967D2;\n",
              "      height: 32px;\n",
              "      padding: 0 0 0 0;\n",
              "      width: 32px;\n",
              "    }\n",
              "\n",
              "    .colab-df-convert:hover {\n",
              "      background-color: #E2EBFA;\n",
              "      box-shadow: 0px 1px 2px rgba(60, 64, 67, 0.3), 0px 1px 3px 1px rgba(60, 64, 67, 0.15);\n",
              "      fill: #174EA6;\n",
              "    }\n",
              "\n",
              "    [theme=dark] .colab-df-convert {\n",
              "      background-color: #3B4455;\n",
              "      fill: #D2E3FC;\n",
              "    }\n",
              "\n",
              "    [theme=dark] .colab-df-convert:hover {\n",
              "      background-color: #434B5C;\n",
              "      box-shadow: 0px 1px 3px 1px rgba(0, 0, 0, 0.15);\n",
              "      filter: drop-shadow(0px 1px 2px rgba(0, 0, 0, 0.3));\n",
              "      fill: #FFFFFF;\n",
              "    }\n",
              "  </style>\n",
              "\n",
              "      <script>\n",
              "        const buttonEl =\n",
              "          document.querySelector('#df-cfd301cd-4e89-4a49-9016-afa0f89a3b74 button.colab-df-convert');\n",
              "        buttonEl.style.display =\n",
              "          google.colab.kernel.accessAllowed ? 'block' : 'none';\n",
              "\n",
              "        async function convertToInteractive(key) {\n",
              "          const element = document.querySelector('#df-cfd301cd-4e89-4a49-9016-afa0f89a3b74');\n",
              "          const dataTable =\n",
              "            await google.colab.kernel.invokeFunction('convertToInteractive',\n",
              "                                                     [key], {});\n",
              "          if (!dataTable) return;\n",
              "\n",
              "          const docLinkHtml = 'Like what you see? Visit the ' +\n",
              "            '<a target=\"_blank\" href=https://colab.research.google.com/notebooks/data_table.ipynb>data table notebook</a>'\n",
              "            + ' to learn more about interactive tables.';\n",
              "          element.innerHTML = '';\n",
              "          dataTable['output_type'] = 'display_data';\n",
              "          await google.colab.output.renderOutput(dataTable, element);\n",
              "          const docLink = document.createElement('div');\n",
              "          docLink.innerHTML = docLinkHtml;\n",
              "          element.appendChild(docLink);\n",
              "        }\n",
              "      </script>\n",
              "    </div>\n",
              "  </div>\n",
              "  "
            ]
          },
          "metadata": {},
          "execution_count": 10
        }
      ],
      "source": [
        "data.head(500)"
      ]
    },
    {
      "cell_type": "markdown",
      "source": [
        "En Pandas, tenemos la libertad de agregar diferentes funciones cuando sea necesario, como función lambda, función de clasificación, etc. Podemos aplicar una función lambda tanto a las columnas como a las filas del marco de datos de Pandas.\n",
        "EN este caso contaremos la palabras del campo descripción e incluiremos una etiqueta en el rango de palabras en que esta cada descripción (entre 0-100, 100-200, etc.)\n",
        "Posteriormente agrupamos y revisamos la distribución del ranfo de palabras respecto a los registros de la muestra."
      ],
      "metadata": {
        "id": "ufGi7msX5C6h"
      }
    },
    {
      "cell_type": "code",
      "execution_count": 11,
      "metadata": {
        "id": "T5H9-2KUC_mC"
      },
      "outputs": [],
      "source": [
        "data['num_words'] = data.Description.apply(lambda x : len(x.split()))"
      ]
    },
    {
      "cell_type": "code",
      "execution_count": 12,
      "metadata": {
        "id": "N7eGNRV5C_mE"
      },
      "outputs": [],
      "source": [
        "bins=[0,50,75, np.inf]\n",
        "data['bins']=pd.cut(data.num_words, bins=[0,100,300,500,800, np.inf], labels=['0-100', '100-300', '300-500','500-800' ,'>800'])"
      ]
    },
    {
      "cell_type": "code",
      "execution_count": 13,
      "metadata": {
        "id": "Bp8_JcpGC_mF"
      },
      "outputs": [],
      "source": [
        "word_distribution = data.groupby('bins').size().reset_index().rename(columns={0:'counts'})"
      ]
    },
    {
      "cell_type": "code",
      "execution_count": 14,
      "metadata": {
        "colab": {
          "base_uri": "https://localhost:8080/",
          "height": 206
        },
        "id": "mF18UeN1C_mH",
        "outputId": "23088d27-bab9-49cd-a859-64b21fba98d2"
      },
      "outputs": [
        {
          "output_type": "execute_result",
          "data": {
            "text/plain": [
              "      bins  counts\n",
              "0    0-100    2817\n",
              "1  100-300     162\n",
              "2  300-500      15\n",
              "3  500-800       2\n",
              "4     >800       4"
            ],
            "text/html": [
              "\n",
              "  <div id=\"df-48892573-7f9e-491a-bb24-4d6d9ae15ed8\">\n",
              "    <div class=\"colab-df-container\">\n",
              "      <div>\n",
              "<style scoped>\n",
              "    .dataframe tbody tr th:only-of-type {\n",
              "        vertical-align: middle;\n",
              "    }\n",
              "\n",
              "    .dataframe tbody tr th {\n",
              "        vertical-align: top;\n",
              "    }\n",
              "\n",
              "    .dataframe thead th {\n",
              "        text-align: right;\n",
              "    }\n",
              "</style>\n",
              "<table border=\"1\" class=\"dataframe\">\n",
              "  <thead>\n",
              "    <tr style=\"text-align: right;\">\n",
              "      <th></th>\n",
              "      <th>bins</th>\n",
              "      <th>counts</th>\n",
              "    </tr>\n",
              "  </thead>\n",
              "  <tbody>\n",
              "    <tr>\n",
              "      <th>0</th>\n",
              "      <td>0-100</td>\n",
              "      <td>2817</td>\n",
              "    </tr>\n",
              "    <tr>\n",
              "      <th>1</th>\n",
              "      <td>100-300</td>\n",
              "      <td>162</td>\n",
              "    </tr>\n",
              "    <tr>\n",
              "      <th>2</th>\n",
              "      <td>300-500</td>\n",
              "      <td>15</td>\n",
              "    </tr>\n",
              "    <tr>\n",
              "      <th>3</th>\n",
              "      <td>500-800</td>\n",
              "      <td>2</td>\n",
              "    </tr>\n",
              "    <tr>\n",
              "      <th>4</th>\n",
              "      <td>&gt;800</td>\n",
              "      <td>4</td>\n",
              "    </tr>\n",
              "  </tbody>\n",
              "</table>\n",
              "</div>\n",
              "      <button class=\"colab-df-convert\" onclick=\"convertToInteractive('df-48892573-7f9e-491a-bb24-4d6d9ae15ed8')\"\n",
              "              title=\"Convert this dataframe to an interactive table.\"\n",
              "              style=\"display:none;\">\n",
              "        \n",
              "  <svg xmlns=\"http://www.w3.org/2000/svg\" height=\"24px\"viewBox=\"0 0 24 24\"\n",
              "       width=\"24px\">\n",
              "    <path d=\"M0 0h24v24H0V0z\" fill=\"none\"/>\n",
              "    <path d=\"M18.56 5.44l.94 2.06.94-2.06 2.06-.94-2.06-.94-.94-2.06-.94 2.06-2.06.94zm-11 1L8.5 8.5l.94-2.06 2.06-.94-2.06-.94L8.5 2.5l-.94 2.06-2.06.94zm10 10l.94 2.06.94-2.06 2.06-.94-2.06-.94-.94-2.06-.94 2.06-2.06.94z\"/><path d=\"M17.41 7.96l-1.37-1.37c-.4-.4-.92-.59-1.43-.59-.52 0-1.04.2-1.43.59L10.3 9.45l-7.72 7.72c-.78.78-.78 2.05 0 2.83L4 21.41c.39.39.9.59 1.41.59.51 0 1.02-.2 1.41-.59l7.78-7.78 2.81-2.81c.8-.78.8-2.07 0-2.86zM5.41 20L4 18.59l7.72-7.72 1.47 1.35L5.41 20z\"/>\n",
              "  </svg>\n",
              "      </button>\n",
              "      \n",
              "  <style>\n",
              "    .colab-df-container {\n",
              "      display:flex;\n",
              "      flex-wrap:wrap;\n",
              "      gap: 12px;\n",
              "    }\n",
              "\n",
              "    .colab-df-convert {\n",
              "      background-color: #E8F0FE;\n",
              "      border: none;\n",
              "      border-radius: 50%;\n",
              "      cursor: pointer;\n",
              "      display: none;\n",
              "      fill: #1967D2;\n",
              "      height: 32px;\n",
              "      padding: 0 0 0 0;\n",
              "      width: 32px;\n",
              "    }\n",
              "\n",
              "    .colab-df-convert:hover {\n",
              "      background-color: #E2EBFA;\n",
              "      box-shadow: 0px 1px 2px rgba(60, 64, 67, 0.3), 0px 1px 3px 1px rgba(60, 64, 67, 0.15);\n",
              "      fill: #174EA6;\n",
              "    }\n",
              "\n",
              "    [theme=dark] .colab-df-convert {\n",
              "      background-color: #3B4455;\n",
              "      fill: #D2E3FC;\n",
              "    }\n",
              "\n",
              "    [theme=dark] .colab-df-convert:hover {\n",
              "      background-color: #434B5C;\n",
              "      box-shadow: 0px 1px 3px 1px rgba(0, 0, 0, 0.15);\n",
              "      filter: drop-shadow(0px 1px 2px rgba(0, 0, 0, 0.3));\n",
              "      fill: #FFFFFF;\n",
              "    }\n",
              "  </style>\n",
              "\n",
              "      <script>\n",
              "        const buttonEl =\n",
              "          document.querySelector('#df-48892573-7f9e-491a-bb24-4d6d9ae15ed8 button.colab-df-convert');\n",
              "        buttonEl.style.display =\n",
              "          google.colab.kernel.accessAllowed ? 'block' : 'none';\n",
              "\n",
              "        async function convertToInteractive(key) {\n",
              "          const element = document.querySelector('#df-48892573-7f9e-491a-bb24-4d6d9ae15ed8');\n",
              "          const dataTable =\n",
              "            await google.colab.kernel.invokeFunction('convertToInteractive',\n",
              "                                                     [key], {});\n",
              "          if (!dataTable) return;\n",
              "\n",
              "          const docLinkHtml = 'Like what you see? Visit the ' +\n",
              "            '<a target=\"_blank\" href=https://colab.research.google.com/notebooks/data_table.ipynb>data table notebook</a>'\n",
              "            + ' to learn more about interactive tables.';\n",
              "          element.innerHTML = '';\n",
              "          dataTable['output_type'] = 'display_data';\n",
              "          await google.colab.output.renderOutput(dataTable, element);\n",
              "          const docLink = document.createElement('div');\n",
              "          docLink.innerHTML = docLinkHtml;\n",
              "          element.appendChild(docLink);\n",
              "        }\n",
              "      </script>\n",
              "    </div>\n",
              "  </div>\n",
              "  "
            ]
          },
          "metadata": {},
          "execution_count": 14
        }
      ],
      "source": [
        "word_distribution.head()"
      ]
    },
    {
      "cell_type": "code",
      "execution_count": 15,
      "metadata": {
        "colab": {
          "base_uri": "https://localhost:8080/",
          "height": 316
        },
        "id": "WJYWMCpvC_mI",
        "outputId": "aff79dfb-67cc-4ba5-96ec-47ec2fc93ede"
      },
      "outputs": [
        {
          "output_type": "execute_result",
          "data": {
            "text/plain": [
              "Text(0.5, 1.0, 'Word distribution per bin')"
            ]
          },
          "metadata": {},
          "execution_count": 15
        },
        {
          "output_type": "display_data",
          "data": {
            "text/plain": [
              "<Figure size 432x288 with 1 Axes>"
            ],
            "image/png": "[encoded data removed]"
          },
          "metadata": {
            "needs_background": "light"
          }
        }
      ],
      "source": [
        "sns.barplot(x='bins', y='counts', data=word_distribution).set_title(\"Word distribution per bin\")"
      ]
    },
    {
      "cell_type": "markdown",
      "source": [
        "Aqui vemos cada registro del dataset, con su descripción, categoria, el target definido, el numero de palabras que contine caa categoria y el rango en que esta el numero de palabras."
      ],
      "metadata": {
        "id": "DRSpuFTR63Ut"
      }
    },
    {
      "cell_type": "code",
      "execution_count": 16,
      "metadata": {
        "colab": {
          "base_uri": "https://localhost:8080/",
          "height": 206
        },
        "id": "y_j0zIq6C_mJ",
        "outputId": "21f39450-fdc5-4703-f885-cd4b6f7b105c"
      },
      "outputs": [
        {
          "output_type": "execute_result",
          "data": {
            "text/plain": [
              "                                         Description     Category  target  \\\n",
              "0  hi since recruiter lead permission approve req...  Application       0   \n",
              "1  re expire days hi ask help update passwords co...  Application       0   \n",
              "2  verification warning hi has got attached pleas...  Application       0   \n",
              "3  please dear looks blacklisted receiving mails ...  Application       0   \n",
              "4  dear modules report report cost thank much reg...  Application       0   \n",
              "\n",
              "   num_words     bins  \n",
              "0         12    0-100  \n",
              "1        140  100-300  \n",
              "2         14    0-100  \n",
              "3         14    0-100  \n",
              "4          8    0-100  "
            ],
            "text/html": [
              "\n",
              "  <div id=\"df-dcf04685-0677-433a-9540-cb37dc6d915e\">\n",
              "    <div class=\"colab-df-container\">\n",
              "      <div>\n",
              "<style scoped>\n",
              "    .dataframe tbody tr th:only-of-type {\n",
              "        vertical-align: middle;\n",
              "    }\n",
              "\n",
              "    .dataframe tbody tr th {\n",
              "        vertical-align: top;\n",
              "    }\n",
              "\n",
              "    .dataframe thead th {\n",
              "        text-align: right;\n",
              "    }\n",
              "</style>\n",
              "<table border=\"1\" class=\"dataframe\">\n",
              "  <thead>\n",
              "    <tr style=\"text-align: right;\">\n",
              "      <th></th>\n",
              "      <th>Description</th>\n",
              "      <th>Category</th>\n",
              "      <th>target</th>\n",
              "      <th>num_words</th>\n",
              "      <th>bins</th>\n",
              "    </tr>\n",
              "  </thead>\n",
              "  <tbody>\n",
              "    <tr>\n",
              "      <th>0</th>\n",
              "      <td>hi since recruiter lead permission approve req...</td>\n",
              "      <td>Application</td>\n",
              "      <td>0</td>\n",
              "      <td>12</td>\n",
              "      <td>0-100</td>\n",
              "    </tr>\n",
              "    <tr>\n",
              "      <th>1</th>\n",
              "      <td>re expire days hi ask help update passwords co...</td>\n",
              "      <td>Application</td>\n",
              "      <td>0</td>\n",
              "      <td>140</td>\n",
              "      <td>100-300</td>\n",
              "    </tr>\n",
              "    <tr>\n",
              "      <th>2</th>\n",
              "      <td>verification warning hi has got attached pleas...</td>\n",
              "      <td>Application</td>\n",
              "      <td>0</td>\n",
              "      <td>14</td>\n",
              "      <td>0-100</td>\n",
              "    </tr>\n",
              "    <tr>\n",
              "      <th>3</th>\n",
              "      <td>please dear looks blacklisted receiving mails ...</td>\n",
              "      <td>Application</td>\n",
              "      <td>0</td>\n",
              "      <td>14</td>\n",
              "      <td>0-100</td>\n",
              "    </tr>\n",
              "    <tr>\n",
              "      <th>4</th>\n",
              "      <td>dear modules report report cost thank much reg...</td>\n",
              "      <td>Application</td>\n",
              "      <td>0</td>\n",
              "      <td>8</td>\n",
              "      <td>0-100</td>\n",
              "    </tr>\n",
              "  </tbody>\n",
              "</table>\n",
              "</div>\n",
              "      <button class=\"colab-df-convert\" onclick=\"convertToInteractive('df-dcf04685-0677-433a-9540-cb37dc6d915e')\"\n",
              "              title=\"Convert this dataframe to an interactive table.\"\n",
              "              style=\"display:none;\">\n",
              "        \n",
              "  <svg xmlns=\"http://www.w3.org/2000/svg\" height=\"24px\"viewBox=\"0 0 24 24\"\n",
              "       width=\"24px\">\n",
              "    <path d=\"M0 0h24v24H0V0z\" fill=\"none\"/>\n",
              "    <path d=\"M18.56 5.44l.94 2.06.94-2.06 2.06-.94-2.06-.94-.94-2.06-.94 2.06-2.06.94zm-11 1L8.5 8.5l.94-2.06 2.06-.94-2.06-.94L8.5 2.5l-.94 2.06-2.06.94zm10 10l.94 2.06.94-2.06 2.06-.94-2.06-.94-.94-2.06-.94 2.06-2.06.94z\"/><path d=\"M17.41 7.96l-1.37-1.37c-.4-.4-.92-.59-1.43-.59-.52 0-1.04.2-1.43.59L10.3 9.45l-7.72 7.72c-.78.78-.78 2.05 0 2.83L4 21.41c.39.39.9.59 1.41.59.51 0 1.02-.2 1.41-.59l7.78-7.78 2.81-2.81c.8-.78.8-2.07 0-2.86zM5.41 20L4 18.59l7.72-7.72 1.47 1.35L5.41 20z\"/>\n",
              "  </svg>\n",
              "      </button>\n",
              "      \n",
              "  <style>\n",
              "    .colab-df-container {\n",
              "      display:flex;\n",
              "      flex-wrap:wrap;\n",
              "      gap: 12px;\n",
              "    }\n",
              "\n",
              "    .colab-df-convert {\n",
              "      background-color: #E8F0FE;\n",
              "      border: none;\n",
              "      border-radius: 50%;\n",
              "      cursor: pointer;\n",
              "      display: none;\n",
              "      fill: #1967D2;\n",
              "      height: 32px;\n",
              "      padding: 0 0 0 0;\n",
              "      width: 32px;\n",
              "    }\n",
              "\n",
              "    .colab-df-convert:hover {\n",
              "      background-color: #E2EBFA;\n",
              "      box-shadow: 0px 1px 2px rgba(60, 64, 67, 0.3), 0px 1px 3px 1px rgba(60, 64, 67, 0.15);\n",
              "      fill: #174EA6;\n",
              "    }\n",
              "\n",
              "    [theme=dark] .colab-df-convert {\n",
              "      background-color: #3B4455;\n",
              "      fill: #D2E3FC;\n",
              "    }\n",
              "\n",
              "    [theme=dark] .colab-df-convert:hover {\n",
              "      background-color: #434B5C;\n",
              "      box-shadow: 0px 1px 3px 1px rgba(0, 0, 0, 0.15);\n",
              "      filter: drop-shadow(0px 1px 2px rgba(0, 0, 0, 0.3));\n",
              "      fill: #FFFFFF;\n",
              "    }\n",
              "  </style>\n",
              "\n",
              "      <script>\n",
              "        const buttonEl =\n",
              "          document.querySelector('#df-dcf04685-0677-433a-9540-cb37dc6d915e button.colab-df-convert');\n",
              "        buttonEl.style.display =\n",
              "          google.colab.kernel.accessAllowed ? 'block' : 'none';\n",
              "\n",
              "        async function convertToInteractive(key) {\n",
              "          const element = document.querySelector('#df-dcf04685-0677-433a-9540-cb37dc6d915e');\n",
              "          const dataTable =\n",
              "            await google.colab.kernel.invokeFunction('convertToInteractive',\n",
              "                                                     [key], {});\n",
              "          if (!dataTable) return;\n",
              "\n",
              "          const docLinkHtml = 'Like what you see? Visit the ' +\n",
              "            '<a target=\"_blank\" href=https://colab.research.google.com/notebooks/data_table.ipynb>data table notebook</a>'\n",
              "            + ' to learn more about interactive tables.';\n",
              "          element.innerHTML = '';\n",
              "          dataTable['output_type'] = 'display_data';\n",
              "          await google.colab.output.renderOutput(dataTable, element);\n",
              "          const docLink = document.createElement('div');\n",
              "          docLink.innerHTML = docLinkHtml;\n",
              "          element.appendChild(docLink);\n",
              "        }\n",
              "      </script>\n",
              "    </div>\n",
              "  </div>\n",
              "  "
            ]
          },
          "metadata": {},
          "execution_count": 16
        }
      ],
      "source": [
        "data.head()"
      ]
    },
    {
      "cell_type": "markdown",
      "source": [
        "Asignamos el target a la variable **y**, la que usaremos más adelante en el modelo. Ojo con esto."
      ],
      "metadata": {
        "id": "7AudFwVh7SQu"
      }
    },
    {
      "cell_type": "code",
      "execution_count": 17,
      "metadata": {
        "id": "ED8FWJTCC_mL"
      },
      "outputs": [],
      "source": [
        "num_class = len(np.unique(data.Category.values))\n",
        "y = data['target'].values"
      ]
    },
    {
      "cell_type": "code",
      "source": [
        ""
      ],
      "metadata": {
        "id": "vB-baOli7fbO"
      },
      "execution_count": 17,
      "outputs": []
    },
    {
      "cell_type": "markdown",
      "metadata": {
        "id": "DbRQMIr8C_mM"
      },
      "source": [
        "# Topic Modelling\n",
        "\n",
        "Antes de darle caña al proceso, estas son algunas de las suposiciones que consideramos:\n",
        "Elegimos la cantidad de descripciones con anticipación, incluso si no estamos seguros de cuáles son.\n",
        "Cada documento se representa como una distribución por descripción.\n",
        "Cada descripción se representa como una distribución sobre palabras.\n",
        "Usamos** Wordnet de NLTK** para encontrar los significados de palabras, sinónimos, antónimos y más. Además, usamos **WordNetLemmatizer** para obtener la raíz de la palabra.\n",
        "Luego leemos nuestro conjunto de datos línea por línea y preparamos cada línea para LDA y las almacenamos en una lista."
      ]
    },
    {
      "cell_type": "code",
      "execution_count": 18,
      "metadata": {
        "colab": {
          "base_uri": "https://localhost:8080/"
        },
        "id": "g-rQT7lCC_mP",
        "outputId": "81afcf2e-e44a-4470-cadc-406fc27107d9"
      },
      "outputs": [
        {
          "output_type": "stream",
          "name": "stderr",
          "text": [
            "/usr/local/lib/python3.7/dist-packages/nltk/twitter/__init__.py:20: UserWarning: The twython library has not been installed. Some functionality from the twitter package will not be available.\n",
            "  warnings.warn(\"The twython library has not been installed. \"\n"
          ]
        }
      ],
      "source": [
        "from sklearn.feature_extraction.text import CountVectorizer, TfidfTransformer\n",
        "import numpy as np\n",
        "import pandas as pd\n",
        "import re\n",
        "import warnings\n",
        "\n",
        "#Visualisation\n",
        "import matplotlib.pyplot as plt\n",
        "import matplotlib\n",
        "import seaborn as sns\n",
        "from IPython.display import display\n",
        "#from mpl_toolkits.basemap import Basemap\n",
        "from wordcloud import WordCloud, STOPWORDS\n",
        "\n",
        "#nltk\n",
        "from nltk.stem import WordNetLemmatizer\n",
        "from nltk.sentiment.vader import SentimentIntensityAnalyzer\n",
        "from nltk.sentiment.util import *\n",
        "from nltk import tokenize"
      ]
    },
    {
      "cell_type": "code",
      "execution_count": 19,
      "metadata": {
        "id": "mvOXNS8aC_mR"
      },
      "outputs": [],
      "source": [
        "data['Description'] = data['Description'].astype(str)"
      ]
    },
    {
      "cell_type": "code",
      "source": [
        "data.head(1000)"
      ],
      "metadata": {
        "colab": {
          "base_uri": "https://localhost:8080/",
          "height": 424
        },
        "id": "YTEi3eNe8E2g",
        "outputId": "4e1a7f2b-5f58-4280-ea9b-8625ce6aa686"
      },
      "execution_count": 20,
      "outputs": [
        {
          "output_type": "execute_result",
          "data": {
            "text/plain": [
              "                                           Description     Category  target  \\\n",
              "0    hi since recruiter lead permission approve req...  Application       0   \n",
              "1    re expire days hi ask help update passwords co...  Application       0   \n",
              "2    verification warning hi has got attached pleas...  Application       0   \n",
              "3    please dear looks blacklisted receiving mails ...  Application       0   \n",
              "4    dear modules report report cost thank much reg...  Application       0   \n",
              "..                                                 ...          ...     ...   \n",
              "995  client hi about working client clients establi...      Network       2   \n",
              "996  hello please having thank application engineer...      Network       2   \n",
              "997  permissions hello please kind assist possible ...      Network       2   \n",
              "998  device recovery report printer tray has proble...      Network       2   \n",
              "999  folder storage hi please folder related curren...      Network       2   \n",
              "\n",
              "     num_words     bins  \n",
              "0           12    0-100  \n",
              "1          140  100-300  \n",
              "2           14    0-100  \n",
              "3           14    0-100  \n",
              "4            8    0-100  \n",
              "..         ...      ...  \n",
              "995         38    0-100  \n",
              "996          7    0-100  \n",
              "997         20    0-100  \n",
              "998         42    0-100  \n",
              "999         12    0-100  \n",
              "\n",
              "[1000 rows x 5 columns]"
            ],
            "text/html": [
              "\n",
              "  <div id=\"df-b8ae2a10-c296-4454-a625-90e3ecffba74\">\n",
              "    <div class=\"colab-df-container\">\n",
              "      <div>\n",
              "<style scoped>\n",
              "    .dataframe tbody tr th:only-of-type {\n",
              "        vertical-align: middle;\n",
              "    }\n",
              "\n",
              "    .dataframe tbody tr th {\n",
              "        vertical-align: top;\n",
              "    }\n",
              "\n",
              "    .dataframe thead th {\n",
              "        text-align: right;\n",
              "    }\n",
              "</style>\n",
              "<table border=\"1\" class=\"dataframe\">\n",
              "  <thead>\n",
              "    <tr style=\"text-align: right;\">\n",
              "      <th></th>\n",
              "      <th>Description</th>\n",
              "      <th>Category</th>\n",
              "      <th>target</th>\n",
              "      <th>num_words</th>\n",
              "      <th>bins</th>\n",
              "    </tr>\n",
              "  </thead>\n",
              "  <tbody>\n",
              "    <tr>\n",
              "      <th>0</th>\n",
              "      <td>hi since recruiter lead permission approve req...</td>\n",
              "      <td>Application</td>\n",
              "      <td>0</td>\n",
              "      <td>12</td>\n",
              "      <td>0-100</td>\n",
              "    </tr>\n",
              "    <tr>\n",
              "      <th>1</th>\n",
              "      <td>re expire days hi ask help update passwords co...</td>\n",
              "      <td>Application</td>\n",
              "      <td>0</td>\n",
              "      <td>140</td>\n",
              "      <td>100-300</td>\n",
              "    </tr>\n",
              "    <tr>\n",
              "      <th>2</th>\n",
              "      <td>verification warning hi has got attached pleas...</td>\n",
              "      <td>Application</td>\n",
              "      <td>0</td>\n",
              "      <td>14</td>\n",
              "      <td>0-100</td>\n",
              "    </tr>\n",
              "    <tr>\n",
              "      <th>3</th>\n",
              "      <td>please dear looks blacklisted receiving mails ...</td>\n",
              "      <td>Application</td>\n",
              "      <td>0</td>\n",
              "      <td>14</td>\n",
              "      <td>0-100</td>\n",
              "    </tr>\n",
              "    <tr>\n",
              "      <th>4</th>\n",
              "      <td>dear modules report report cost thank much reg...</td>\n",
              "      <td>Application</td>\n",
              "      <td>0</td>\n",
              "      <td>8</td>\n",
              "      <td>0-100</td>\n",
              "    </tr>\n",
              "    <tr>\n",
              "      <th>...</th>\n",
              "      <td>...</td>\n",
              "      <td>...</td>\n",
              "      <td>...</td>\n",
              "      <td>...</td>\n",
              "      <td>...</td>\n",
              "    </tr>\n",
              "    <tr>\n",
              "      <th>995</th>\n",
              "      <td>client hi about working client clients establi...</td>\n",
              "      <td>Network</td>\n",
              "      <td>2</td>\n",
              "      <td>38</td>\n",
              "      <td>0-100</td>\n",
              "    </tr>\n",
              "    <tr>\n",
              "      <th>996</th>\n",
              "      <td>hello please having thank application engineer...</td>\n",
              "      <td>Network</td>\n",
              "      <td>2</td>\n",
              "      <td>7</td>\n",
              "      <td>0-100</td>\n",
              "    </tr>\n",
              "    <tr>\n",
              "      <th>997</th>\n",
              "      <td>permissions hello please kind assist possible ...</td>\n",
              "      <td>Network</td>\n",
              "      <td>2</td>\n",
              "      <td>20</td>\n",
              "      <td>0-100</td>\n",
              "    </tr>\n",
              "    <tr>\n",
              "      <th>998</th>\n",
              "      <td>device recovery report printer tray has proble...</td>\n",
              "      <td>Network</td>\n",
              "      <td>2</td>\n",
              "      <td>42</td>\n",
              "      <td>0-100</td>\n",
              "    </tr>\n",
              "    <tr>\n",
              "      <th>999</th>\n",
              "      <td>folder storage hi please folder related curren...</td>\n",
              "      <td>Network</td>\n",
              "      <td>2</td>\n",
              "      <td>12</td>\n",
              "      <td>0-100</td>\n",
              "    </tr>\n",
              "  </tbody>\n",
              "</table>\n",
              "<p>1000 rows × 5 columns</p>\n",
              "</div>\n",
              "      <button class=\"colab-df-convert\" onclick=\"convertToInteractive('df-b8ae2a10-c296-4454-a625-90e3ecffba74')\"\n",
              "              title=\"Convert this dataframe to an interactive table.\"\n",
              "              style=\"display:none;\">\n",
              "        \n",
              "  <svg xmlns=\"http://www.w3.org/2000/svg\" height=\"24px\"viewBox=\"0 0 24 24\"\n",
              "       width=\"24px\">\n",
              "    <path d=\"M0 0h24v24H0V0z\" fill=\"none\"/>\n",
              "    <path d=\"M18.56 5.44l.94 2.06.94-2.06 2.06-.94-2.06-.94-.94-2.06-.94 2.06-2.06.94zm-11 1L8.5 8.5l.94-2.06 2.06-.94-2.06-.94L8.5 2.5l-.94 2.06-2.06.94zm10 10l.94 2.06.94-2.06 2.06-.94-2.06-.94-.94-2.06-.94 2.06-2.06.94z\"/><path d=\"M17.41 7.96l-1.37-1.37c-.4-.4-.92-.59-1.43-.59-.52 0-1.04.2-1.43.59L10.3 9.45l-7.72 7.72c-.78.78-.78 2.05 0 2.83L4 21.41c.39.39.9.59 1.41.59.51 0 1.02-.2 1.41-.59l7.78-7.78 2.81-2.81c.8-.78.8-2.07 0-2.86zM5.41 20L4 18.59l7.72-7.72 1.47 1.35L5.41 20z\"/>\n",
              "  </svg>\n",
              "      </button>\n",
              "      \n",
              "  <style>\n",
              "    .colab-df-container {\n",
              "      display:flex;\n",
              "      flex-wrap:wrap;\n",
              "      gap: 12px;\n",
              "    }\n",
              "\n",
              "    .colab-df-convert {\n",
              "      background-color: #E8F0FE;\n",
              "      border: none;\n",
              "      border-radius: 50%;\n",
              "      cursor: pointer;\n",
              "      display: none;\n",
              "      fill: #1967D2;\n",
              "      height: 32px;\n",
              "      padding: 0 0 0 0;\n",
              "      width: 32px;\n",
              "    }\n",
              "\n",
              "    .colab-df-convert:hover {\n",
              "      background-color: #E2EBFA;\n",
              "      box-shadow: 0px 1px 2px rgba(60, 64, 67, 0.3), 0px 1px 3px 1px rgba(60, 64, 67, 0.15);\n",
              "      fill: #174EA6;\n",
              "    }\n",
              "\n",
              "    [theme=dark] .colab-df-convert {\n",
              "      background-color: #3B4455;\n",
              "      fill: #D2E3FC;\n",
              "    }\n",
              "\n",
              "    [theme=dark] .colab-df-convert:hover {\n",
              "      background-color: #434B5C;\n",
              "      box-shadow: 0px 1px 3px 1px rgba(0, 0, 0, 0.15);\n",
              "      filter: drop-shadow(0px 1px 2px rgba(0, 0, 0, 0.3));\n",
              "      fill: #FFFFFF;\n",
              "    }\n",
              "  </style>\n",
              "\n",
              "      <script>\n",
              "        const buttonEl =\n",
              "          document.querySelector('#df-b8ae2a10-c296-4454-a625-90e3ecffba74 button.colab-df-convert');\n",
              "        buttonEl.style.display =\n",
              "          google.colab.kernel.accessAllowed ? 'block' : 'none';\n",
              "\n",
              "        async function convertToInteractive(key) {\n",
              "          const element = document.querySelector('#df-b8ae2a10-c296-4454-a625-90e3ecffba74');\n",
              "          const dataTable =\n",
              "            await google.colab.kernel.invokeFunction('convertToInteractive',\n",
              "                                                     [key], {});\n",
              "          if (!dataTable) return;\n",
              "\n",
              "          const docLinkHtml = 'Like what you see? Visit the ' +\n",
              "            '<a target=\"_blank\" href=https://colab.research.google.com/notebooks/data_table.ipynb>data table notebook</a>'\n",
              "            + ' to learn more about interactive tables.';\n",
              "          element.innerHTML = '';\n",
              "          dataTable['output_type'] = 'display_data';\n",
              "          await google.colab.output.renderOutput(dataTable, element);\n",
              "          const docLink = document.createElement('div');\n",
              "          docLink.innerHTML = docLinkHtml;\n",
              "          element.appendChild(docLink);\n",
              "        }\n",
              "      </script>\n",
              "    </div>\n",
              "  </div>\n",
              "  "
            ]
          },
          "metadata": {},
          "execution_count": 20
        }
      ]
    },
    {
      "cell_type": "markdown",
      "source": [
        "Proceso de tockenización de las descripciones que estan en data.Description.values y quedaran en post_seq_padded"
      ],
      "metadata": {
        "id": "EErYBir_Hkfc"
      }
    },
    {
      "cell_type": "code",
      "execution_count": 21,
      "metadata": {
        "id": "UcFFsnxGC_mt"
      },
      "outputs": [],
      "source": [
        "MAX_LENGTH = 500\n",
        "tokenizer = Tokenizer()\n",
        "tokenizer.fit_on_texts(data.Description.values)\n",
        "#print(data.Description.values[0])\n",
        "post_seq = tokenizer.texts_to_sequences(data.Description.values)\n",
        "post_seq_padded = pad_sequences(post_seq, maxlen=MAX_LENGTH)\n",
        "\n"
      ]
    },
    {
      "cell_type": "code",
      "execution_count": 22,
      "metadata": {
        "id": "HNsmFxEDC_mu"
      },
      "outputs": [],
      "source": [
        "X_train, X_test, y_train, y_test = train_test_split(post_seq_padded, y, test_size=0.05,random_state=42)"
      ]
    },
    {
      "cell_type": "code",
      "execution_count": 23,
      "metadata": {
        "id": "9YMLnYO2C_mu"
      },
      "outputs": [],
      "source": [
        "vocab_size = len(tokenizer.word_index) + 1"
      ]
    },
    {
      "cell_type": "markdown",
      "metadata": {
        "id": "Ucec_w2TC_mv"
      },
      "source": [
        "# Deep Learning Model Simple"
      ]
    },
    {
      "cell_type": "markdown",
      "source": [
        "Selección y entrenamiento de modelos:\n",
        "RNN para clasificación: -\n",
        "Una canalización de clasificación de texto de un extremo a otro se compone de los siguientes componentes:\n",
        "1. Texto de entrenamiento: Es el texto de entrada a través del cual nuestro modelo de aprendizaje supervisado es capaz de aprender y predecir la clase requerida.\n",
        "2. Vector de características: un vector de características es un vector que contiene información que describe las características de los datos de entrada.\n",
        "3. Etiquetas: Estas son las categorías/clases predefinidas que nuestro modelo predecirá\n",
        "4. ML Algo: Es el algoritmo a través del cual nuestro modelo es capaz de lidiar con la clasificación de texto (En nuestro caso: CNN, RNN, HAN)\n",
        "5. Modelo predictivo: un modelo que se entrena en el conjunto de datos históricos que puede realizar predicciones de etiquetas."
      ],
      "metadata": {
        "id": "SdzQALsVXUfc"
      }
    },
    {
      "cell_type": "code",
      "execution_count": 24,
      "metadata": {
        "outputId": "0f0978bb-12a0-4542-92bd-6cadd1af2b52",
        "colab": {
          "base_uri": "https://localhost:8080/",
          "height": 105
        },
        "id": "qf52AmWpA9pW"
      },
      "outputs": [
        {
          "output_type": "execute_result",
          "data": {
            "text/plain": [
              "\"\\nMAX_LENGTH = 500\\ntokenizer = Tokenizer()\\n\\npaso = pd.DataFrame()\\npaso['Description'] = ['hello since recruiter lead permission approve requisitions makes please make thanks recruiter']\\npaso.head()\\npaso['Description'] = paso['Description'].astype(str)\\n\\n\\ntokenizer.fit_on_texts(data.Description.values)\\nprint(data.Description.values[0])\\npost_seq = tokenizer.texts_to_sequences(paso.Description.values)\\npost_seq_padded = pad_sequences(post_seq, maxlen=MAX_LENGTH)\\nprint(post_seq_padded[0])\\n\\n\""
            ],
            "application/vnd.google.colaboratory.intrinsic+json": {
              "type": "string"
            }
          },
          "metadata": {},
          "execution_count": 24
        }
      ],
      "source": [
        "'''\n",
        "MAX_LENGTH = 500\n",
        "tokenizer = Tokenizer()\n",
        "\n",
        "paso = pd.DataFrame()\n",
        "paso['Description'] = ['hello since recruiter lead permission approve requisitions makes please make thanks recruiter']\n",
        "paso.head()\n",
        "paso['Description'] = paso['Description'].astype(str)\n",
        "\n",
        "\n",
        "tokenizer.fit_on_texts(data.Description.values)\n",
        "print(data.Description.values[0])\n",
        "post_seq = tokenizer.texts_to_sequences(paso.Description.values)\n",
        "post_seq_padded = pad_sequences(post_seq, maxlen=MAX_LENGTH)\n",
        "print(post_seq_padded[0])\n",
        "\n",
        "'''\n",
        "\n"
      ]
    },
    {
      "cell_type": "code",
      "execution_count": 25,
      "metadata": {
        "id": "jICnkjg9C_mv"
      },
      "outputs": [],
      "source": [
        "# MODELO 1\n",
        "inputs = Input(shape=(MAX_LENGTH, ))\n",
        "embedding_layer = Embedding(vocab_size,\n",
        "                            128,\n",
        "                            input_length=MAX_LENGTH)(inputs)\n",
        "x = Flatten()(embedding_layer)\n",
        "x = Dense(32, activation='relu')(x)\n",
        "\n",
        "predictions = Dense(num_class, activation='softmax')(x)\n",
        "model = Model(inputs=[inputs], outputs=predictions)\n"
      ]
    },
    {
      "cell_type": "code",
      "source": [
        "# Compile el modelo de Keras para configurar el proceso de entrenamiento:\n",
        "model.compile(optimizer='adam',\n",
        "              loss='categorical_crossentropy',\n",
        "              metrics=['acc'])\n",
        "\n",
        "model.summary()"
      ],
      "metadata": {
        "colab": {
          "base_uri": "https://localhost:8080/"
        },
        "id": "9tR5zRsZKEHp",
        "outputId": "76a60334-3836-4de5-c7eb-6b7a7044a936"
      },
      "execution_count": 26,
      "outputs": [
        {
          "output_type": "stream",
          "name": "stdout",
          "text": [
            "Model: \"model\"\n",
            "_________________________________________________________________\n",
            " Layer (type)                Output Shape              Param #   \n",
            "=================================================================\n",
            " input_1 (InputLayer)        [(None, 500)]             0         \n",
            "                                                                 \n",
            " embedding (Embedding)       (None, 500, 128)          653312    \n",
            "                                                                 \n",
            " flatten (Flatten)           (None, 64000)             0         \n",
            "                                                                 \n",
            " dense (Dense)               (None, 32)                2048032   \n",
            "                                                                 \n",
            " dense_1 (Dense)             (None, 5)                 165       \n",
            "                                                                 \n",
            "=================================================================\n",
            "Total params: 2,701,509\n",
            "Trainable params: 2,701,509\n",
            "Non-trainable params: 0\n",
            "_________________________________________________________________\n"
          ]
        }
      ]
    },
    {
      "cell_type": "code",
      "source": [
        "# Entrena el modelo\n",
        "filepath=\"weights-simple.hdf5\"\n",
        "checkpointer = ModelCheckpoint(filepath, monitor='val_acc', verbose=1, save_best_only=True, mode='max')\n",
        "history = model.fit([X_train], batch_size=64, y=to_categorical(y_train), verbose=1, validation_split=0.25, \n",
        "          shuffle=True, epochs=10, callbacks=[checkpointer])"
      ],
      "metadata": {
        "colab": {
          "base_uri": "https://localhost:8080/"
        },
        "id": "XTXiyEthKYRf",
        "outputId": "aebfef26-8c5d-447a-fc60-c2811d69e651"
      },
      "execution_count": 27,
      "outputs": [
        {
          "output_type": "stream",
          "name": "stdout",
          "text": [
            "Epoch 1/10\n",
            "33/34 [============================>.] - ETA: 0s - loss: 1.6913 - acc: 0.1955\n",
            "Epoch 1: val_acc improved from -inf to 0.22160, saving model to weights-simple.hdf5\n",
            "34/34 [==============================] - 4s 71ms/step - loss: 1.6902 - acc: 0.1970 - val_loss: 1.6004 - val_acc: 0.2216\n",
            "Epoch 2/10\n",
            "33/34 [============================>.] - ETA: 0s - loss: 1.5716 - acc: 0.2874\n",
            "Epoch 2: val_acc improved from 0.22160 to 0.31978, saving model to weights-simple.hdf5\n",
            "34/34 [==============================] - 2s 64ms/step - loss: 1.5710 - acc: 0.2873 - val_loss: 1.5419 - val_acc: 0.3198\n",
            "Epoch 3/10\n",
            "33/34 [============================>.] - ETA: 0s - loss: 1.4508 - acc: 0.3722\n",
            "Epoch 3: val_acc improved from 0.31978 to 0.38429, saving model to weights-simple.hdf5\n",
            "34/34 [==============================] - 2s 65ms/step - loss: 1.4506 - acc: 0.3720 - val_loss: 1.4084 - val_acc: 0.3843\n",
            "Epoch 4/10\n",
            "33/34 [============================>.] - ETA: 0s - loss: 1.2464 - acc: 0.4957\n",
            "Epoch 4: val_acc improved from 0.38429 to 0.46003, saving model to weights-simple.hdf5\n",
            "34/34 [==============================] - 2s 66ms/step - loss: 1.2446 - acc: 0.4970 - val_loss: 1.2776 - val_acc: 0.4600\n",
            "Epoch 5/10\n",
            "33/34 [============================>.] - ETA: 0s - loss: 1.0277 - acc: 0.6714\n",
            "Epoch 5: val_acc improved from 0.46003 to 0.51893, saving model to weights-simple.hdf5\n",
            "34/34 [==============================] - 2s 61ms/step - loss: 1.0250 - acc: 0.6729 - val_loss: 1.1856 - val_acc: 0.5189\n",
            "Epoch 6/10\n",
            "33/34 [============================>.] - ETA: 0s - loss: 0.7898 - acc: 0.8011\n",
            "Epoch 6: val_acc improved from 0.51893 to 0.65498, saving model to weights-simple.hdf5\n",
            "34/34 [==============================] - 2s 67ms/step - loss: 0.7903 - acc: 0.7997 - val_loss: 1.0146 - val_acc: 0.6550\n",
            "Epoch 7/10\n",
            "33/34 [============================>.] - ETA: 0s - loss: 0.5716 - acc: 0.8684\n",
            "Epoch 7: val_acc improved from 0.65498 to 0.68443, saving model to weights-simple.hdf5\n",
            "34/34 [==============================] - 2s 62ms/step - loss: 0.5699 - acc: 0.8690 - val_loss: 0.9266 - val_acc: 0.6844\n",
            "Epoch 8/10\n",
            "34/34 [==============================] - ETA: 0s - loss: 0.4029 - acc: 0.9013\n",
            "Epoch 8: val_acc improved from 0.68443 to 0.69565, saving model to weights-simple.hdf5\n",
            "34/34 [==============================] - 2s 69ms/step - loss: 0.4029 - acc: 0.9013 - val_loss: 0.8683 - val_acc: 0.6957\n",
            "Epoch 9/10\n",
            "33/34 [============================>.] - ETA: 0s - loss: 0.2922 - acc: 0.9413\n",
            "Epoch 9: val_acc improved from 0.69565 to 0.71248, saving model to weights-simple.hdf5\n",
            "34/34 [==============================] - 2s 72ms/step - loss: 0.2929 - acc: 0.9406 - val_loss: 0.8505 - val_acc: 0.7125\n",
            "Epoch 10/10\n",
            "34/34 [==============================] - ETA: 0s - loss: 0.2204 - acc: 0.9569\n",
            "Epoch 10: val_acc improved from 0.71248 to 0.71389, saving model to weights-simple.hdf5\n",
            "34/34 [==============================] - 2s 61ms/step - loss: 0.2204 - acc: 0.9569 - val_loss: 0.8685 - val_acc: 0.7139\n"
          ]
        }
      ]
    },
    {
      "cell_type": "code",
      "execution_count": 28,
      "metadata": {
        "colab": {
          "base_uri": "https://localhost:8080/",
          "height": 282
        },
        "id": "x_udm9FVC_mw",
        "outputId": "b29df19e-99cb-4e6c-cc8b-ecd6d927a153"
      },
      "outputs": [
        {
          "output_type": "display_data",
          "data": {
            "text/plain": [
              "<Figure size 432x288 with 1 Axes>"
            ],
            "image/png": "[encoded data removed]"
          },
          "metadata": {
            "needs_background": "light"
          }
        }
      ],
      "source": [
        "df = pd.DataFrame({'epochs':history.epoch, 'accuracy': history.history['acc'], 'validation_accuracy': history.history['val_acc']})\n",
        "g = sns.pointplot(x=\"epochs\", y=\"accuracy\", data=df, fit_reg=False)\n",
        "g = sns.pointplot(x=\"epochs\", y=\"validation_accuracy\", data=df, fit_reg=False, color='green')"
      ]
    },
    {
      "cell_type": "code",
      "source": [
        ""
      ],
      "metadata": {
        "id": "qHsJICT4N6RN"
      },
      "execution_count": 28,
      "outputs": []
    },
    {
      "cell_type": "code",
      "execution_count": 29,
      "metadata": {
        "colab": {
          "base_uri": "https://localhost:8080/"
        },
        "id": "V7MWaOAbC_mx",
        "outputId": "cd689591-06c3-4767-8931-e143809886ec"
      },
      "outputs": [
        {
          "output_type": "stream",
          "name": "stdout",
          "text": [
            "3\n"
          ]
        }
      ],
      "source": [
        "\n",
        "predicted = model.predict(X_test)\n",
        "predicted = np.argmax(predicted, axis=1)\n",
        "accuracy_score(y_test, predicted)\n",
        "print(predicted[0])\n",
        "\n"
      ]
    },
    {
      "cell_type": "code",
      "execution_count": 48,
      "metadata": {
        "outputId": "b14bb3b5-62ab-43a8-bbbc-eb7a5f67d1a1",
        "colab": {
          "base_uri": "https://localhost:8080/"
        },
        "id": "tqkD1C7aN6w9"
      },
      "outputs": [
        {
          "output_type": "stream",
          "name": "stdout",
          "text": [
            "hi since recruiter lead permission approve requisitions makes please make thanks recruiter\n",
            "[   0    0    0    0    0    0    0    0    0    0    0    0    0    0\n",
            "    0    0    0    0    0    0    0    0    0    0    0    0    0    0\n",
            "    0    0    0    0    0    0    0    0    0    0    0    0    0    0\n",
            "    0    0    0    0    0    0    0    0    0    0    0    0    0    0\n",
            "    0    0    0    0    0    0    0    0    0    0    0    0    0    0\n",
            "    0    0    0    0    0    0    0    0    0    0    0    0    0    0\n",
            "    0    0    0    0    0    0    0    0    0    0    0    0    0    0\n",
            "    0    0    0    0    0    0    0    0    0    0    0    0    0    0\n",
            "    0    0    0    0    0    0    0    0    0    0    0    0    0    0\n",
            "    0    0    0    0    0    0    0    0    0    0    0    0    0    0\n",
            "    0    0    0    0    0    0    0    0    0    0    0    0    0    0\n",
            "    0    0    0    0    0    0    0    0    0    0    0    0    0    0\n",
            "    0    0    0    0    0    0    0    0    0    0    0    0    0    0\n",
            "    0    0    0    0    0    0    0    0    0    0    0    0    0    0\n",
            "    0    0    0    0    0    0    0    0    0    0    0    0    0    0\n",
            "    0    0    0    0    0    0    0    0    0    0    0    0    0    0\n",
            "    0    0    0    0    0    0    0    0    0    0    0    0    0    0\n",
            "    0    0    0    0    0    0    0    0    0    0    0    0    0    0\n",
            "    0    0    0    0    0    0    0    0    0    0    0    0    0    0\n",
            "    0    0    0    0    0    0    0    0    0    0    0    0    0    0\n",
            "    0    0    0    0    0    0    0    0    0    0    0    0    0    0\n",
            "    0    0    0    0    0    0    0    0    0    0    0    0    0    0\n",
            "    0    0    0    0    0    0    0    0    0    0    0    0    0    0\n",
            "    0    0    0    0    0    0    0    0    0    0    0    0    0    0\n",
            "    0    0    0    0    0    0    0    0    0    0    0    0    0    0\n",
            "    0    0    0    0    0    0    0    0    0    0    0    0    0    0\n",
            "    0    0    0    0    0    0    0    0    0    0    0    0    0    0\n",
            "    0    0    0    0    0    0    0    0    0    0    0    0    0    0\n",
            "    0    0    0    0    0    0    0    0    0    0    0    0    0    0\n",
            "    0    0    0    0    0    0    0    0    0    0    0    0    0    0\n",
            "    0    0    0    0    0    0    0    0    0    0    0    0    0    0\n",
            "    0    0    0    0    0    0    0    0    0    0    0    0    0    0\n",
            "    0    0    0    0    0    0    0    0    0    0    0    0    0    0\n",
            "    0    0    0    0    0    0    0    0    0    0    0    0    0  370\n",
            "  698   15    1   17  506   53  230  387 1427  539  612  191    1  370\n",
            "  341  127  217  140  341 1512    4  419   58  698]\n",
            "[[1.5464725e-02 9.5018852e-01 4.2740683e-04 2.1298619e-02 1.2620792e-02]]\n"
          ]
        }
      ],
      "source": [
        "\n",
        "MAX_LENGTH = 500\n",
        "tokenizer = Tokenizer()\n",
        "\n",
        "paso = pd.DataFrame()\n",
        "paso['Description'] = ['complete colombia dear please help completed form testing internship student intern joining well please complete going his where he going seated thank compliance officer colombia\t\t']\n",
        "paso.head()\n",
        "paso['Description'] = paso['Description'].astype(str)\n",
        "\n",
        "\n",
        "tokenizer.fit_on_texts(data.Description.values)\n",
        "print(data.Description.values[0])\n",
        "post_seq = tokenizer.texts_to_sequences(paso.Description.values)\n",
        "post_seq_padded = pad_sequences(post_seq, maxlen=MAX_LENGTH)\n",
        "print(post_seq_padded[0])\n",
        "\n",
        "predicted = model.predict(post_seq_padded)\n",
        "print(predicted)\n",
        "\n",
        "\n"
      ]
    },
    {
      "cell_type": "markdown",
      "metadata": {
        "id": "OOYAMMh6C_mz"
      },
      "source": [
        "# RNN"
      ]
    },
    {
      "cell_type": "markdown",
      "source": [
        "Clasificación de incidentes utilizando la red neuronal recurrente (RNN):\n",
        "Una red neuronal recurrente (RNN) es una clase de red neuronal artificial donde las conexiones entre nodos forman un gráfico dirigido a lo largo de una secuencia. Esto le permite exhibir un comportamiento temporal dinámico durante una secuencia de tiempo.\n",
        "Usar el conocimiento de una incrustación externa puede mejorar la precisión de su RNN porque integra nueva información (léxica y semántica) sobre las palabras, una información que ha sido entrenada y destilada en un corpus de datos muy grande. utilizado es GloVe.\n",
        "RNN es una secuencia de bloques de redes neuronales que están vinculados entre sí como una cadena. Cada uno está pasando un mensaje a un sucesor."
      ],
      "metadata": {
        "id": "SE2sIs5KXojw"
      }
    },
    {
      "cell_type": "code",
      "execution_count": 31,
      "metadata": {
        "id": "kYJUtfzfC_mz",
        "outputId": "f7e0f422-1566-4916-ff4c-4b99836a0c32",
        "colab": {
          "base_uri": "https://localhost:8080/"
        }
      },
      "outputs": [
        {
          "output_type": "stream",
          "name": "stdout",
          "text": [
            "Model: \"model_1\"\n",
            "_________________________________________________________________\n",
            " Layer (type)                Output Shape              Param #   \n",
            "=================================================================\n",
            " input_2 (InputLayer)        [(None, 500)]             0         \n",
            "                                                                 \n",
            " embedding_1 (Embedding)     (None, 500, 128)          653312    \n",
            "                                                                 \n",
            " lstm (LSTM)                 (None, 64)                49408     \n",
            "                                                                 \n",
            " dense_2 (Dense)             (None, 32)                2080      \n",
            "                                                                 \n",
            " dense_3 (Dense)             (None, 5)                 165       \n",
            "                                                                 \n",
            "=================================================================\n",
            "Total params: 704,965\n",
            "Trainable params: 704,965\n",
            "Non-trainable params: 0\n",
            "_________________________________________________________________\n"
          ]
        }
      ],
      "source": [
        "inputs = Input(shape=(MAX_LENGTH, ))\n",
        "embedding_layer = Embedding(vocab_size,\n",
        "                            128,\n",
        "                            input_length=MAX_LENGTH)(inputs)\n",
        "\n",
        "x = LSTM(64)(embedding_layer)\n",
        "x = Dense(32, activation='relu')(x)\n",
        "predictions = Dense(num_class, activation='softmax')(x)\n",
        "model_lstm = Model(inputs=[inputs], outputs=predictions)\n",
        "model_lstm.compile(optimizer='adam',\n",
        "              loss='categorical_crossentropy',\n",
        "              metrics=['acc'])\n",
        "\n",
        "model_lstm.summary()"
      ]
    },
    {
      "cell_type": "code",
      "execution_count": 32,
      "metadata": {
        "id": "nyexdPGrC_m0",
        "outputId": "4e643964-07cf-4ae9-9e51-3c2d6e0d6e57",
        "colab": {
          "base_uri": "https://localhost:8080/"
        }
      },
      "outputs": [
        {
          "output_type": "stream",
          "name": "stdout",
          "text": [
            "Epoch 1/20\n",
            "34/34 [==============================] - ETA: 0s - loss: 1.5606 - acc: 0.3467\n",
            "Epoch 1: val_acc improved from -inf to 0.37167, saving model to weights.hdf5\n",
            "34/34 [==============================] - 22s 583ms/step - loss: 1.5606 - acc: 0.3467 - val_loss: 1.4953 - val_acc: 0.3717\n",
            "Epoch 2/20\n",
            "34/34 [==============================] - ETA: 0s - loss: 1.1670 - acc: 0.5686\n",
            "Epoch 2: val_acc improved from 0.37167 to 0.62833, saving model to weights.hdf5\n",
            "34/34 [==============================] - 19s 546ms/step - loss: 1.1670 - acc: 0.5686 - val_loss: 0.9485 - val_acc: 0.6283\n",
            "Epoch 3/20\n",
            "34/34 [==============================] - ETA: 0s - loss: 0.7017 - acc: 0.7314\n",
            "Epoch 3: val_acc improved from 0.62833 to 0.68022, saving model to weights.hdf5\n",
            "34/34 [==============================] - 20s 595ms/step - loss: 0.7017 - acc: 0.7314 - val_loss: 0.8891 - val_acc: 0.6802\n",
            "Epoch 4/20\n",
            "34/34 [==============================] - ETA: 0s - loss: 0.4938 - acc: 0.8226\n",
            "Epoch 4: val_acc improved from 0.68022 to 0.68443, saving model to weights.hdf5\n",
            "34/34 [==============================] - 19s 551ms/step - loss: 0.4938 - acc: 0.8226 - val_loss: 0.8730 - val_acc: 0.6844\n",
            "Epoch 5/20\n",
            "34/34 [==============================] - ETA: 0s - loss: 0.3546 - acc: 0.8872\n",
            "Epoch 5: val_acc did not improve from 0.68443\n",
            "34/34 [==============================] - 18s 539ms/step - loss: 0.3546 - acc: 0.8872 - val_loss: 1.0038 - val_acc: 0.6606\n",
            "Epoch 6/20\n",
            "34/34 [==============================] - ETA: 0s - loss: 0.2861 - acc: 0.9153\n",
            "Epoch 6: val_acc did not improve from 0.68443\n",
            "34/34 [==============================] - 18s 528ms/step - loss: 0.2861 - acc: 0.9153 - val_loss: 0.9960 - val_acc: 0.6760\n",
            "Epoch 7/20\n",
            "34/34 [==============================] - ETA: 0s - loss: 0.2100 - acc: 0.9392\n",
            "Epoch 7: val_acc improved from 0.68443 to 0.69565, saving model to weights.hdf5\n",
            "34/34 [==============================] - 18s 541ms/step - loss: 0.2100 - acc: 0.9392 - val_loss: 1.0546 - val_acc: 0.6957\n",
            "Epoch 8/20\n",
            "34/34 [==============================] - ETA: 0s - loss: 0.1649 - acc: 0.9532\n",
            "Epoch 8: val_acc did not improve from 0.69565\n",
            "34/34 [==============================] - 18s 534ms/step - loss: 0.1649 - acc: 0.9532 - val_loss: 1.2329 - val_acc: 0.6704\n",
            "Epoch 9/20\n",
            "34/34 [==============================] - ETA: 0s - loss: 0.1361 - acc: 0.9630\n",
            "Epoch 9: val_acc did not improve from 0.69565\n",
            "34/34 [==============================] - 18s 541ms/step - loss: 0.1361 - acc: 0.9630 - val_loss: 1.2703 - val_acc: 0.6844\n",
            "Epoch 10/20\n",
            "34/34 [==============================] - ETA: 0s - loss: 0.1143 - acc: 0.9663\n",
            "Epoch 10: val_acc did not improve from 0.69565\n",
            "34/34 [==============================] - 18s 542ms/step - loss: 0.1143 - acc: 0.9663 - val_loss: 1.3907 - val_acc: 0.6816\n",
            "Epoch 11/20\n",
            "34/34 [==============================] - ETA: 0s - loss: 0.0923 - acc: 0.9738\n",
            "Epoch 11: val_acc did not improve from 0.69565\n",
            "34/34 [==============================] - 18s 537ms/step - loss: 0.0923 - acc: 0.9738 - val_loss: 1.4376 - val_acc: 0.6564\n",
            "Epoch 12/20\n",
            "34/34 [==============================] - ETA: 0s - loss: 0.0897 - acc: 0.9724\n",
            "Epoch 12: val_acc did not improve from 0.69565\n",
            "34/34 [==============================] - 18s 540ms/step - loss: 0.0897 - acc: 0.9724 - val_loss: 1.4998 - val_acc: 0.6564\n",
            "Epoch 13/20\n",
            "34/34 [==============================] - ETA: 0s - loss: 0.0757 - acc: 0.9789\n",
            "Epoch 13: val_acc did not improve from 0.69565\n",
            "34/34 [==============================] - 19s 550ms/step - loss: 0.0757 - acc: 0.9789 - val_loss: 1.5956 - val_acc: 0.6620\n",
            "Epoch 14/20\n",
            "34/34 [==============================] - ETA: 0s - loss: 0.0753 - acc: 0.9794\n",
            "Epoch 14: val_acc did not improve from 0.69565\n",
            "34/34 [==============================] - 18s 544ms/step - loss: 0.0753 - acc: 0.9794 - val_loss: 1.6255 - val_acc: 0.6788\n",
            "Epoch 15/20\n",
            "34/34 [==============================] - ETA: 0s - loss: 0.0796 - acc: 0.9771\n",
            "Epoch 15: val_acc did not improve from 0.69565\n",
            "34/34 [==============================] - 18s 542ms/step - loss: 0.0796 - acc: 0.9771 - val_loss: 1.5795 - val_acc: 0.6606\n",
            "Epoch 16/20\n",
            "34/34 [==============================] - ETA: 0s - loss: 0.0766 - acc: 0.9780\n",
            "Epoch 16: val_acc did not improve from 0.69565\n",
            "34/34 [==============================] - 18s 536ms/step - loss: 0.0766 - acc: 0.9780 - val_loss: 1.6771 - val_acc: 0.6522\n",
            "Epoch 17/20\n",
            "34/34 [==============================] - ETA: 0s - loss: 0.0642 - acc: 0.9827\n",
            "Epoch 17: val_acc did not improve from 0.69565\n",
            "34/34 [==============================] - 19s 564ms/step - loss: 0.0642 - acc: 0.9827 - val_loss: 1.7081 - val_acc: 0.6676\n",
            "Epoch 18/20\n",
            "34/34 [==============================] - ETA: 0s - loss: 0.0724 - acc: 0.9780\n",
            "Epoch 18: val_acc did not improve from 0.69565\n",
            "34/34 [==============================] - 19s 551ms/step - loss: 0.0724 - acc: 0.9780 - val_loss: 1.5819 - val_acc: 0.6620\n",
            "Epoch 19/20\n",
            "34/34 [==============================] - ETA: 0s - loss: 0.0525 - acc: 0.9836\n",
            "Epoch 19: val_acc did not improve from 0.69565\n",
            "34/34 [==============================] - 19s 548ms/step - loss: 0.0525 - acc: 0.9836 - val_loss: 1.7914 - val_acc: 0.6676\n",
            "Epoch 20/20\n",
            "34/34 [==============================] - ETA: 0s - loss: 0.0462 - acc: 0.9869\n",
            "Epoch 20: val_acc did not improve from 0.69565\n",
            "34/34 [==============================] - 19s 558ms/step - loss: 0.0462 - acc: 0.9869 - val_loss: 1.8007 - val_acc: 0.6508\n"
          ]
        }
      ],
      "source": [
        "filepath=\"weights.hdf5\"\n",
        "checkpointer = ModelCheckpoint(filepath, monitor='val_acc', verbose=1, save_best_only=True, mode='max')\n",
        "history = model_lstm.fit([X_train], batch_size=64, y=to_categorical(y_train), verbose=1, validation_split=0.25, \n",
        "          shuffle=True, epochs=20, callbacks=[checkpointer])"
      ]
    },
    {
      "cell_type": "code",
      "execution_count": 33,
      "metadata": {
        "id": "L8qdJqq6C_m1",
        "outputId": "d6a98b44-a923-4b20-bd83-7cbed9a56cf3",
        "colab": {
          "base_uri": "https://localhost:8080/",
          "height": 282
        }
      },
      "outputs": [
        {
          "output_type": "display_data",
          "data": {
            "text/plain": [
              "<Figure size 432x288 with 1 Axes>"
            ],
            "image/png": "[encoded data removed]"
          },
          "metadata": {
            "needs_background": "light"
          }
        }
      ],
      "source": [
        "df = pd.DataFrame({'epochs':history.epoch, 'accuracy': history.history['acc'], 'validation_accuracy': history.history['val_acc']})\n",
        "g = sns.pointplot(x=\"epochs\", y=\"accuracy\", data=df, fit_reg=False)\n",
        "g = sns.pointplot(x=\"epochs\", y=\"validation_accuracy\", data=df, fit_reg=False, color='green')"
      ]
    },
    {
      "cell_type": "code",
      "execution_count": 34,
      "metadata": {
        "id": "ySEcm8dOC_m2",
        "colab": {
          "base_uri": "https://localhost:8080/"
        },
        "outputId": "ae196d8e-ff60-4f47-da8d-af4c714e5f83"
      },
      "outputs": [
        {
          "output_type": "execute_result",
          "data": {
            "text/plain": [
              "0.7066666666666667"
            ]
          },
          "metadata": {},
          "execution_count": 34
        }
      ],
      "source": [
        "predicted = model.predict(X_test)\n",
        "predicted = np.argmax(predicted, axis=1)\n",
        "accuracy_score(y_test, predicted)"
      ]
    },
    {
      "cell_type": "code",
      "execution_count": 35,
      "metadata": {
        "id": "ba2BRvIWC_m3",
        "outputId": "cb399dd9-06c3-4339-a54b-7b5735c1afd6",
        "colab": {
          "base_uri": "https://localhost:8080/"
        }
      },
      "outputs": [
        {
          "output_type": "execute_result",
          "data": {
            "text/plain": [
              "array([3, 0, 4, 0, 3, 1, 4, 3, 2, 2, 3, 0, 0, 0, 2, 2, 2, 0, 1, 3, 0, 0,\n",
              "       2, 3, 0, 1, 2, 4, 0, 4, 2, 4, 0, 3, 4, 0, 3, 0, 0, 4, 0, 4, 0, 1,\n",
              "       4, 4, 3, 0, 2, 4, 0, 3, 0, 2, 1, 1, 4, 1, 2, 0, 4, 0, 1, 0, 0, 0,\n",
              "       4, 3, 4, 0, 4, 1, 1, 3, 2, 2, 3, 1, 3, 3, 2, 2, 1, 4, 3, 0, 2, 4,\n",
              "       2, 1, 0, 4, 2, 0, 4, 0, 2, 3, 0, 4, 3, 0, 1, 4, 4, 0, 3, 2, 0, 4,\n",
              "       3, 0, 1, 3, 4, 3, 0, 0, 4, 3, 1, 3, 2, 4, 2, 3, 3, 2, 1, 2, 3, 4,\n",
              "       4, 4, 0, 0, 2, 4, 2, 3, 2, 4, 3, 3, 3, 2, 3, 3, 3, 0])"
            ]
          },
          "metadata": {},
          "execution_count": 35
        }
      ],
      "source": [
        "predicted"
      ]
    },
    {
      "cell_type": "code",
      "execution_count": 36,
      "metadata": {
        "id": "Y3TwwD3iC_m3"
      },
      "outputs": [],
      "source": [
        "#predicted = np.argmax(predicted, axis=1)"
      ]
    },
    {
      "cell_type": "code",
      "execution_count": 37,
      "metadata": {
        "id": "HlztXFJoC_m4",
        "outputId": "78b95100-de0e-421f-ce4b-167da667eaa8",
        "colab": {
          "base_uri": "https://localhost:8080/"
        }
      },
      "outputs": [
        {
          "output_type": "execute_result",
          "data": {
            "text/plain": [
              "0.7066666666666667"
            ]
          },
          "metadata": {},
          "execution_count": 37
        }
      ],
      "source": [
        "accuracy_score(y_test, predicted)"
      ]
    },
    {
      "cell_type": "code",
      "execution_count": 38,
      "metadata": {
        "id": "d80PCruaC_m4",
        "outputId": "0ed492bc-7b67-47e8-ca9b-98aaa42ff887",
        "colab": {
          "base_uri": "https://localhost:8080/"
        }
      },
      "outputs": [
        {
          "output_type": "stream",
          "name": "stdout",
          "text": [
            "              precision    recall  f1-score   support\n",
            "\n",
            "           0       0.67      0.74      0.70        35\n",
            "           1       0.82      0.52      0.64        27\n",
            "           2       0.61      0.61      0.61        28\n",
            "           3       0.71      0.83      0.76        29\n",
            "           4       0.78      0.81      0.79        31\n",
            "\n",
            "    accuracy                           0.71       150\n",
            "   macro avg       0.72      0.70      0.70       150\n",
            "weighted avg       0.72      0.71      0.70       150\n",
            "\n"
          ]
        }
      ],
      "source": [
        "from sklearn.metrics import classification_report\n",
        "print(classification_report(y_test, predicted))"
      ]
    },
    {
      "cell_type": "code",
      "source": [
        "print(y_test, predicted)"
      ],
      "metadata": {
        "id": "FpWCaExDy5AZ",
        "outputId": "aa34a6a9-36bb-44a6-ed86-efd592d6b625",
        "colab": {
          "base_uri": "https://localhost:8080/"
        }
      },
      "execution_count": 39,
      "outputs": [
        {
          "output_type": "stream",
          "name": "stdout",
          "text": [
            "[4 2 3 0 2 2 4 3 0 2 3 0 1 4 1 2 2 0 1 2 0 0 2 3 4 1 2 4 0 4 2 4 1 1 0 1 3\n",
            " 0 0 4 0 0 0 1 4 4 2 0 2 4 2 3 0 2 0 1 4 1 2 2 1 1 1 0 0 2 4 4 4 0 4 2 1 3\n",
            " 0 1 3 1 3 2 3 3 1 3 3 0 2 4 2 1 0 4 2 4 4 0 2 3 0 4 3 0 1 4 4 1 3 0 0 4 1\n",
            " 0 1 3 0 3 0 0 4 3 1 4 1 4 2 3 3 1 1 2 3 4 3 4 2 0 0 4 2 3 2 4 3 1 3 0 3 3\n",
            " 3 0] [3 0 4 0 3 1 4 3 2 2 3 0 0 0 2 2 2 0 1 3 0 0 2 3 0 1 2 4 0 4 2 4 0 3 4 0 3\n",
            " 0 0 4 0 4 0 1 4 4 3 0 2 4 0 3 0 2 1 1 4 1 2 0 4 0 1 0 0 0 4 3 4 0 4 1 1 3\n",
            " 2 2 3 1 3 3 2 2 1 4 3 0 2 4 2 1 0 4 2 0 4 0 2 3 0 4 3 0 1 4 4 0 3 2 0 4 3\n",
            " 0 1 3 4 3 0 0 4 3 1 3 2 4 2 3 3 2 1 2 3 4 4 4 0 0 2 4 2 3 2 4 3 3 3 2 3 3\n",
            " 3 0]\n"
          ]
        }
      ]
    },
    {
      "cell_type": "code",
      "source": [
        "print(X_test[30])"
      ],
      "metadata": {
        "id": "WApLG3c_EJJe",
        "outputId": "a0ff0519-a0c4-4723-a38b-b7b4c31e6f54",
        "colab": {
          "base_uri": "https://localhost:8080/"
        }
      },
      "execution_count": 40,
      "outputs": [
        {
          "output_type": "stream",
          "name": "stdout",
          "text": [
            "[   0    0    0    0    0    0    0    0    0    0    0    0    0    0\n",
            "    0    0    0    0    0    0    0    0    0    0    0    0    0    0\n",
            "    0    0    0    0    0    0    0    0    0    0    0    0    0    0\n",
            "    0    0    0    0    0    0    0    0    0    0    0    0    0    0\n",
            "    0    0    0    0    0    0    0    0    0    0    0    0    0    0\n",
            "    0    0    0    0    0    0    0    0    0    0    0    0    0    0\n",
            "    0    0    0    0    0    0    0    0    0    0    0    0    0    0\n",
            "    0    0    0    0    0    0    0    0    0    0    0    0    0    0\n",
            "    0    0    0    0    0    0    0    0    0    0    0    0    0    0\n",
            "    0    0    0    0    0    0    0    0    0    0    0    0    0    0\n",
            "    0    0    0    0    0    0    0    0    0    0    0    0    0    0\n",
            "    0    0    0    0    0    0    0    0    0    0    0    0    0    0\n",
            "    0    0    0    0    0    0    0    0    0    0    0    0    0    0\n",
            "    0    0    0    0    0    0    0    0    0    0    0    0    0    0\n",
            "    0    0    0    0    0    0    0    0    0    0    0    0    0    0\n",
            "    0    0    0    0    0    0    0    0    0    0    0    0    0    0\n",
            "    0    0    0    0    0    0    0    0    0    0    0    0    0    0\n",
            "    0    0    0    0    0    0    0    0    0    0    0    0    0    0\n",
            "    0    0    0    0    0    0    0    0    0    0    0    0    0    0\n",
            "    0    0    0    0    0    0    0    0    0    0    0    0    0    0\n",
            "    0    0    0    0    0    0    0    0    0    0    0    0    0    0\n",
            "    0    0    0    0    0    0    0    0    0    0    0    0    0    0\n",
            "    0    0    0    9  170    3    1   17 2381  797 2005  172  131  170\n",
            "   17  797  170   64  131  207   70    1  218  207  170   10   16    2\n",
            "   19   30   11    9  170    3  172  131  170   17  797  170   64  131\n",
            "  207   10   33   11    9  415    3 4162  214   57   83  137   81  279\n",
            "  171  439 2284  737   10   33   11    9  415    3  715  129  415 1233\n",
            "  269 1436 1526  648  269 1436 1526  648    1   48   16    2   19   11\n",
            "    9  415    3  878  737  540  784   81  171  439   50 1237   98  415\n",
            "   80   22  969  969  439  748  191    2   30   11    9  415    3  426\n",
            "  423  553  478  129  415 1233 1017  269 1436 1526  648 1017  269 1436\n",
            " 1526    1  277  748   48  737   57 1060    4   19   27    9  415    3\n",
            "    1  478  791   55   19  664  116   71  127   16   64 1136   16    2\n",
            "   19   11    9  415    5  346  205 1348   73 1239    2   30   11  415\n",
            "   15    1   17  420  415 1846   50 1636  381   80 1661   31 1017  131\n",
            " 2126   98  170  621   76 1436 1526 1362   10   19]\n"
          ]
        }
      ]
    },
    {
      "cell_type": "code",
      "execution_count": 41,
      "metadata": {
        "id": "XSPB7-GlC_m5"
      },
      "outputs": [],
      "source": [
        "from sklearn.metrics import confusion_matrix\n",
        "from sklearn.preprocessing import LabelEncoder\n",
        "import itertools"
      ]
    },
    {
      "cell_type": "code",
      "source": [
        ""
      ],
      "metadata": {
        "id": "hrwb0w0by4XK"
      },
      "execution_count": 41,
      "outputs": []
    },
    {
      "cell_type": "code",
      "execution_count": 42,
      "metadata": {
        "id": "2dJ-FtNYC_m6"
      },
      "outputs": [],
      "source": [
        "# This utility function is from the sklearn docs: http://scikit-learn.org/stable/auto_examples/model_selection/plot_confusion_matrix.html\n",
        "def plot_confusion_matrix(cm, classes,\n",
        "                          title='Confusion matrix',\n",
        "                          cmap=plt.cm.Blues):\n",
        "    \"\"\"\n",
        "    This function prints and plots the confusion matrix.\n",
        "    Normalization can be applied by setting `normalize=True`.\n",
        "    \"\"\"\n",
        "\n",
        "    cm = cm.astype('float') / cm.sum(axis=1)[:, np.newaxis]\n",
        "\n",
        "    plt.imshow(cm, interpolation='nearest', cmap=cmap)\n",
        "    plt.title(title, fontsize=30)\n",
        "    plt.colorbar()\n",
        "    tick_marks = np.arange(len(classes))\n",
        "    plt.xticks(tick_marks, classes, rotation=45, fontsize=22)\n",
        "    plt.yticks(tick_marks, classes, fontsize=22)\n",
        "\n",
        "    fmt = '.2f'\n",
        "    thresh = cm.max() / 2.\n",
        "    for i, j in itertools.product(range(cm.shape[0]), range(cm.shape[1])):\n",
        "        plt.text(j, i, format(cm[i, j], fmt),\n",
        "                 horizontalalignment=\"center\",\n",
        "                 color=\"white\" if cm[i, j] > thresh else \"black\")\n",
        "\n",
        "    plt.ylabel('True label', fontsize=25)\n",
        "    plt.xlabel('Predicted label', fontsize=25)"
      ]
    },
    {
      "cell_type": "code",
      "execution_count": 43,
      "metadata": {
        "id": "uufKu-l0C_m7",
        "outputId": "ff9c70be-b9c0-4cdc-af10-11c856e4f110",
        "colab": {
          "base_uri": "https://localhost:8080/",
          "height": 716
        }
      },
      "outputs": [
        {
          "output_type": "display_data",
          "data": {
            "text/plain": [
              "<Figure size 720x720 with 2 Axes>"
            ],
            "image/png": "[encoded data removed]"
          },
          "metadata": {
            "needs_background": "light"
          }
        }
      ],
      "source": [
        "# Use sklearn utility to convert label strings to numbered index\n",
        "encoder = LabelEncoder()\n",
        "encoder.fit(data.Category.values)\n",
        "text_labels = encoder.classes_ \n",
        "cnf_matrix = confusion_matrix(y_test, predicted)\n",
        "plt.figure(figsize=(10,10))\n",
        "plot_confusion_matrix(cnf_matrix, classes=text_labels, title=\"Confusion matrix\")\n",
        "plt.show()"
      ]
    },
    {
      "cell_type": "code",
      "execution_count": 43,
      "metadata": {
        "id": "Zhim71m_C_nM"
      },
      "outputs": [],
      "source": [
        ""
      ]
    },
    {
      "cell_type": "code",
      "source": [
        ""
      ],
      "metadata": {
        "id": "FXcF91duxTby"
      },
      "execution_count": 43,
      "outputs": []
    },
    {
      "cell_type": "code",
      "source": [
        "tokenizer = Tokenizer()\n",
        "tokenizer.fit_on_texts(\"hi since recruiter lead permission approve requisitions makes please make thanks recruiter\t\t\")\n",
        "post_seq = tokenizer.texts_to_sequences(\"hi since recruiter lead permission approve requisitions makes please make thanks recruiter\t\")\n",
        "post_seq_padded = pad_sequences(post_seq, maxlen=MAX_LENGTH)\n",
        "\n",
        "print(post_seq_padded[0])\n",
        "\n",
        "predicted = model_lstm.predict(post_seq_padded)\n",
        "print(predicted[0])"
      ],
      "metadata": {
        "id": "7wtHmYaXxXOQ",
        "outputId": "b13c8bef-3624-4384-f31c-614e5848cd62",
        "colab": {
          "base_uri": "https://localhost:8080/"
        }
      },
      "execution_count": 47,
      "outputs": [
        {
          "output_type": "stream",
          "name": "stdout",
          "text": [
            "[ 0  0  0  0  0  0  0  0  0  0  0  0  0  0  0  0  0  0  0  0  0  0  0  0\n",
            "  0  0  0  0  0  0  0  0  0  0  0  0  0  0  0  0  0  0  0  0  0  0  0  0\n",
            "  0  0  0  0  0  0  0  0  0  0  0  0  0  0  0  0  0  0  0  0  0  0  0  0\n",
            "  0  0  0  0  0  0  0  0  0  0  0  0  0  0  0  0  0  0  0  0  0  0  0  0\n",
            "  0  0  0  0  0  0  0  0  0  0  0  0  0  0  0  0  0  0  0  0  0  0  0  0\n",
            "  0  0  0  0  0  0  0  0  0  0  0  0  0  0  0  0  0  0  0  0  0  0  0  0\n",
            "  0  0  0  0  0  0  0  0  0  0  0  0  0  0  0  0  0  0  0  0  0  0  0  0\n",
            "  0  0  0  0  0  0  0  0  0  0  0  0  0  0  0  0  0  0  0  0  0  0  0  0\n",
            "  0  0  0  0  0  0  0  0  0  0  0  0  0  0  0  0  0  0  0  0  0  0  0  0\n",
            "  0  0  0  0  0  0  0  0  0  0  0  0  0  0  0  0  0  0  0  0  0  0  0  0\n",
            "  0  0  0  0  0  0  0  0  0  0  0  0  0  0  0  0  0  0  0  0  0  0  0  0\n",
            "  0  0  0  0  0  0  0  0  0  0  0  0  0  0  0  0  0  0  0  0  0  0  0  0\n",
            "  0  0  0  0  0  0  0  0  0  0  0  0  0  0  0  0  0  0  0  0  0  0  0  0\n",
            "  0  0  0  0  0  0  0  0  0  0  0  0  0  0  0  0  0  0  0  0  0  0  0  0\n",
            "  0  0  0  0  0  0  0  0  0  0  0  0  0  0  0  0  0  0  0  0  0  0  0  0\n",
            "  0  0  0  0  0  0  0  0  0  0  0  0  0  0  0  0  0  0  0  0  0  0  0  0\n",
            "  0  0  0  0  0  0  0  0  0  0  0  0  0  0  0  0  0  0  0  0  0  0  0  0\n",
            "  0  0  0  0  0  0  0  0  0  0  0  0  0  0  0  0  0  0  0  0  0  0  0  0\n",
            "  0  0  0  0  0  0  0  0  0  0  0  0  0  0  0  0  0  0  0  0  0  0  0  0\n",
            "  0  0  0  0  0  0  0  0  0  0  0  0  0  0  0  0  0  0  0  0  0  0  0  0\n",
            "  0  0  0  0  0  0  0  0  0  0  0  0  0  0  0  0  0  0  0 14]\n",
            "[0.07643621 0.05579044 0.5323817  0.27980453 0.05558711]\n"
          ]
        }
      ]
    }
  ],
  "metadata": {
    "kernelspec": {
      "display_name": "Python 3",
      "language": "python",
      "name": "python3"
    },
    "language_info": {
      "codemirror_mode": {
        "name": "ipython",
        "version": 3
      },
      "file_extension": ".py",
      "mimetype": "text/x-python",
      "name": "python",
      "nbconvert_exporter": "python",
      "pygments_lexer": "ipython3",
      "version": "3.6.5"
    },
    "colab": {
      "name": "Support_Ticket_Classification.ipynb",
      "provenance": []
    },
    "accelerator": "TPU"
  },
  "nbformat": 4,
  "nbformat_minor": 0
}